{
 "cells": [
  {
   "cell_type": "code",
   "execution_count": 1,
   "metadata": {
    "collapsed": true
   },
   "outputs": [],
   "source": [
    "from chatto_transform.sessions.mimic import mimic_common\n",
    "from chatto_transform.schema.mimic import mimic_schema\n",
    "from chatto_transform.lib.chunks import left_join\n",
    "\n",
    "import pandas as pd"
   ]
  },
  {
   "cell_type": "code",
   "execution_count": 2,
   "metadata": {
    "collapsed": false
   },
   "outputs": [],
   "source": [
    "transfers = mimic_common.load_table(mimic_schema.transfers_schema)"
   ]
  },
  {
   "cell_type": "code",
   "execution_count": 3,
   "metadata": {
    "collapsed": true
   },
   "outputs": [],
   "source": [
    "services = mimic_common.load_table(mimic_schema.services_schema)"
   ]
  },
  {
   "cell_type": "code",
   "execution_count": 4,
   "metadata": {
    "collapsed": true
   },
   "outputs": [],
   "source": [
    "df = left_join(transfers, services, 'hadm_id')"
   ]
  },
  {
   "cell_type": "code",
   "execution_count": 5,
   "metadata": {
    "collapsed": false
   },
   "outputs": [
    {
     "data": {
      "text/plain": [
       "0        0 days 03:24:31\n",
       "1        2 days 07:34:02\n",
       "2        0 days 00:00:00\n",
       "3        0 days 12:27:56\n",
       "4        0 days 21:14:34\n",
       "               ...      \n",
       "347705   0 days 01:45:15\n",
       "347706   0 days 12:00:13\n",
       "347707   0 days 18:53:59\n",
       "347708   1 days 16:36:27\n",
       "347709   4 days 12:50:05\n",
       "Name: time_diff, dtype: timedelta64[ns]"
      ]
     },
     "execution_count": 5,
     "metadata": {},
     "output_type": "execute_result"
    }
   ],
   "source": [
    "df['time_diff'] = (df['intime'] - df['transfertime']).abs()\n",
    "df['time_diff']"
   ]
  },
  {
   "cell_type": "code",
   "execution_count": 6,
   "metadata": {
    "collapsed": true
   },
   "outputs": [],
   "source": [
    "filtered_df = df[df['time_diff'] < pd.Timedelta(hours=12)]"
   ]
  },
  {
   "cell_type": "code",
   "execution_count": 7,
   "metadata": {
    "collapsed": false
   },
   "outputs": [
    {
     "data": {
      "text/html": [
       "<div>\n",
       "<table border=\"1\" class=\"dataframe\">\n",
       "  <thead>\n",
       "    <tr style=\"text-align: right;\">\n",
       "      <th></th>\n",
       "      <th>row_id_x</th>\n",
       "      <th>subject_id_x</th>\n",
       "      <th>hadm_id</th>\n",
       "      <th>icustay_id</th>\n",
       "      <th>dbsource</th>\n",
       "      <th>...</th>\n",
       "      <th>subject_id_y</th>\n",
       "      <th>transfertime</th>\n",
       "      <th>prev_service</th>\n",
       "      <th>curr_service</th>\n",
       "      <th>time_diff</th>\n",
       "    </tr>\n",
       "  </thead>\n",
       "  <tbody>\n",
       "    <tr>\n",
       "      <th>3</th>\n",
       "      <td>796</td>\n",
       "      <td>135</td>\n",
       "      <td>192180</td>\n",
       "      <td>NaN</td>\n",
       "      <td>carevue</td>\n",
       "      <td>...</td>\n",
       "      <td>135</td>\n",
       "      <td>2173-05-18 11:12:05</td>\n",
       "      <td>NaN</td>\n",
       "      <td>NMED</td>\n",
       "      <td>00:00:00</td>\n",
       "    </tr>\n",
       "    <tr>\n",
       "      <th>7</th>\n",
       "      <td>800</td>\n",
       "      <td>135</td>\n",
       "      <td>199634</td>\n",
       "      <td>NaN</td>\n",
       "      <td>carevue</td>\n",
       "      <td>...</td>\n",
       "      <td>135</td>\n",
       "      <td>2174-05-17 00:53:16</td>\n",
       "      <td>NaN</td>\n",
       "      <td>NSURG</td>\n",
       "      <td>00:00:00</td>\n",
       "    </tr>\n",
       "    <tr>\n",
       "      <th>12</th>\n",
       "      <td>805</td>\n",
       "      <td>136</td>\n",
       "      <td>184644</td>\n",
       "      <td>NaN</td>\n",
       "      <td>carevue</td>\n",
       "      <td>...</td>\n",
       "      <td>136</td>\n",
       "      <td>2103-05-09 00:23:08</td>\n",
       "      <td>NaN</td>\n",
       "      <td>NSURG</td>\n",
       "      <td>00:00:00</td>\n",
       "    </tr>\n",
       "    <tr>\n",
       "      <th>18</th>\n",
       "      <td>811</td>\n",
       "      <td>137</td>\n",
       "      <td>151583</td>\n",
       "      <td>NaN</td>\n",
       "      <td>carevue</td>\n",
       "      <td>...</td>\n",
       "      <td>137</td>\n",
       "      <td>2191-11-10 13:57:43</td>\n",
       "      <td>NaN</td>\n",
       "      <td>CSURG</td>\n",
       "      <td>00:00:00</td>\n",
       "    </tr>\n",
       "    <tr>\n",
       "      <th>28</th>\n",
       "      <td>821</td>\n",
       "      <td>138</td>\n",
       "      <td>108120</td>\n",
       "      <td>NaN</td>\n",
       "      <td>carevue</td>\n",
       "      <td>...</td>\n",
       "      <td>138</td>\n",
       "      <td>2131-10-31 00:16:14</td>\n",
       "      <td>NaN</td>\n",
       "      <td>CSURG</td>\n",
       "      <td>00:00:00</td>\n",
       "    </tr>\n",
       "    <tr>\n",
       "      <th>...</th>\n",
       "      <td>...</td>\n",
       "      <td>...</td>\n",
       "      <td>...</td>\n",
       "      <td>...</td>\n",
       "      <td>...</td>\n",
       "      <td>...</td>\n",
       "      <td>...</td>\n",
       "      <td>...</td>\n",
       "      <td>...</td>\n",
       "      <td>...</td>\n",
       "      <td>...</td>\n",
       "    </tr>\n",
       "    <tr>\n",
       "      <th>347696</th>\n",
       "      <td>256811</td>\n",
       "      <td>96402</td>\n",
       "      <td>149199</td>\n",
       "      <td>NaN</td>\n",
       "      <td>metavision</td>\n",
       "      <td>...</td>\n",
       "      <td>96402</td>\n",
       "      <td>2158-05-01 20:10:14</td>\n",
       "      <td>NaN</td>\n",
       "      <td>NMED</td>\n",
       "      <td>00:00:00</td>\n",
       "    </tr>\n",
       "    <tr>\n",
       "      <th>347697</th>\n",
       "      <td>256812</td>\n",
       "      <td>96402</td>\n",
       "      <td>149199</td>\n",
       "      <td>262672</td>\n",
       "      <td>metavision</td>\n",
       "      <td>...</td>\n",
       "      <td>96402</td>\n",
       "      <td>2158-05-01 20:10:14</td>\n",
       "      <td>NaN</td>\n",
       "      <td>NMED</td>\n",
       "      <td>06:00:43</td>\n",
       "    </tr>\n",
       "    <tr>\n",
       "      <th>347701</th>\n",
       "      <td>256816</td>\n",
       "      <td>96404</td>\n",
       "      <td>110194</td>\n",
       "      <td>NaN</td>\n",
       "      <td>metavision</td>\n",
       "      <td>...</td>\n",
       "      <td>96404</td>\n",
       "      <td>2193-09-07 16:35:42</td>\n",
       "      <td>NaN</td>\n",
       "      <td>MED</td>\n",
       "      <td>00:00:00</td>\n",
       "    </tr>\n",
       "    <tr>\n",
       "      <th>347705</th>\n",
       "      <td>256820</td>\n",
       "      <td>96404</td>\n",
       "      <td>187255</td>\n",
       "      <td>NaN</td>\n",
       "      <td>metavision</td>\n",
       "      <td>...</td>\n",
       "      <td>96404</td>\n",
       "      <td>2197-03-14 14:55:31</td>\n",
       "      <td>NaN</td>\n",
       "      <td>MED</td>\n",
       "      <td>00:00:00</td>\n",
       "    </tr>\n",
       "    <tr>\n",
       "      <th>347706</th>\n",
       "      <td>256821</td>\n",
       "      <td>96404</td>\n",
       "      <td>187255</td>\n",
       "      <td>NaN</td>\n",
       "      <td>metavision</td>\n",
       "      <td>...</td>\n",
       "      <td>96404</td>\n",
       "      <td>2197-03-14 14:55:31</td>\n",
       "      <td>NaN</td>\n",
       "      <td>MED</td>\n",
       "      <td>11:23:17</td>\n",
       "    </tr>\n",
       "  </tbody>\n",
       "</table>\n",
       "<p>110180 rows × 19 columns</p>\n",
       "</div>"
      ],
      "text/plain": [
       "        row_id_x  subject_id_x  hadm_id  icustay_id    dbsource    ...      \\\n",
       "3            796           135   192180         NaN     carevue    ...       \n",
       "7            800           135   199634         NaN     carevue    ...       \n",
       "12           805           136   184644         NaN     carevue    ...       \n",
       "18           811           137   151583         NaN     carevue    ...       \n",
       "28           821           138   108120         NaN     carevue    ...       \n",
       "...          ...           ...      ...         ...         ...    ...       \n",
       "347696    256811         96402   149199         NaN  metavision    ...       \n",
       "347697    256812         96402   149199      262672  metavision    ...       \n",
       "347701    256816         96404   110194         NaN  metavision    ...       \n",
       "347705    256820         96404   187255         NaN  metavision    ...       \n",
       "347706    256821         96404   187255         NaN  metavision    ...       \n",
       "\n",
       "       subject_id_y        transfertime prev_service  curr_service  time_diff  \n",
       "3               135 2173-05-18 11:12:05          NaN          NMED   00:00:00  \n",
       "7               135 2174-05-17 00:53:16          NaN         NSURG   00:00:00  \n",
       "12              136 2103-05-09 00:23:08          NaN         NSURG   00:00:00  \n",
       "18              137 2191-11-10 13:57:43          NaN         CSURG   00:00:00  \n",
       "28              138 2131-10-31 00:16:14          NaN         CSURG   00:00:00  \n",
       "...             ...                 ...          ...           ...        ...  \n",
       "347696        96402 2158-05-01 20:10:14          NaN          NMED   00:00:00  \n",
       "347697        96402 2158-05-01 20:10:14          NaN          NMED   06:00:43  \n",
       "347701        96404 2193-09-07 16:35:42          NaN           MED   00:00:00  \n",
       "347705        96404 2197-03-14 14:55:31          NaN           MED   00:00:00  \n",
       "347706        96404 2197-03-14 14:55:31          NaN           MED   11:23:17  \n",
       "\n",
       "[110180 rows x 19 columns]"
      ]
     },
     "execution_count": 7,
     "metadata": {},
     "output_type": "execute_result"
    }
   ],
   "source": [
    "filtered_df"
   ]
  },
  {
   "cell_type": "code",
   "execution_count": null,
   "metadata": {
    "collapsed": true
   },
   "outputs": [],
   "source": []
  }
 ],
 "metadata": {
  "kernelspec": {
   "display_name": "Python 3",
   "language": "python",
   "name": "python3"
  },
  "language_info": {
   "codemirror_mode": {
    "name": "ipython",
    "version": 3
   },
   "file_extension": ".py",
   "mimetype": "text/x-python",
   "name": "python",
   "nbconvert_exporter": "python",
   "pygments_lexer": "ipython3",
   "version": "3.4.3"
  }
 },
 "nbformat": 4,
 "nbformat_minor": 0
}
