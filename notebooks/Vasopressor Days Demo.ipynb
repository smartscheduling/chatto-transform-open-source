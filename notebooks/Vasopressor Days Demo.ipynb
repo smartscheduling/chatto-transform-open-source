{
 "cells": [
  {
   "cell_type": "markdown",
   "metadata": {},
   "source": [
    "Configuration and display setup cell"
   ]
  },
  {
   "cell_type": "code",
   "execution_count": 1,
   "metadata": {
    "collapsed": true
   },
   "outputs": [],
   "source": [
    "%matplotlib inline\n",
    "import matplotlib\n",
    "matplotlib.style.use('ggplot')\n",
    "matplotlib.rcParams['figure.figsize'] = (10.0, 8.0)\n",
    "\n",
    "import pandas as pd\n",
    "pd.options.display.max_columns = 10\n",
    "pd.options.display.max_rows = 10\n",
    "\n",
    "import warnings\n",
    "warnings.filterwarnings('ignore')"
   ]
  },
  {
   "cell_type": "markdown",
   "metadata": {},
   "source": [
    "`care_value` contains transforms for counting the total days on vasopressors per icu stay."
   ]
  },
  {
   "cell_type": "code",
   "execution_count": 2,
   "metadata": {
    "collapsed": false
   },
   "outputs": [],
   "source": [
    "from chatto_transform.transforms.mimic import care_value"
   ]
  },
  {
   "cell_type": "markdown",
   "metadata": {},
   "source": [
    "We can use the `VasopressorDays` transform to get this count."
   ]
  },
  {
   "cell_type": "code",
   "execution_count": 3,
   "metadata": {
    "collapsed": false
   },
   "outputs": [],
   "source": [
    "df = care_value.VasopressorDays().load_transform()"
   ]
  },
  {
   "cell_type": "code",
   "execution_count": 4,
   "metadata": {
    "collapsed": false
   },
   "outputs": [
    {
     "data": {
      "text/html": [
       "<div>\n",
       "<table border=\"1\" class=\"dataframe\">\n",
       "  <thead>\n",
       "    <tr style=\"text-align: right;\">\n",
       "      <th></th>\n",
       "      <th>subject_id</th>\n",
       "      <th>icustay_id</th>\n",
       "      <th>dobutamine_days</th>\n",
       "      <th>dopamine_days</th>\n",
       "      <th>epinephrine_days</th>\n",
       "      <th>levophed_days</th>\n",
       "      <th>milrinone_days</th>\n",
       "      <th>neosynephrine_days</th>\n",
       "      <th>vasopressin_days</th>\n",
       "      <th>total_vasopressor_days</th>\n",
       "    </tr>\n",
       "  </thead>\n",
       "  <tbody>\n",
       "    <tr>\n",
       "      <th>0</th>\n",
       "      <td>3</td>\n",
       "      <td>211552</td>\n",
       "      <td>0 days</td>\n",
       "      <td>0 days</td>\n",
       "      <td>0 days</td>\n",
       "      <td>1 days</td>\n",
       "      <td>0 days</td>\n",
       "      <td>2 days</td>\n",
       "      <td>0 days</td>\n",
       "      <td>2 days</td>\n",
       "    </tr>\n",
       "    <tr>\n",
       "      <th>1</th>\n",
       "      <td>9</td>\n",
       "      <td>220597</td>\n",
       "      <td>0 days</td>\n",
       "      <td>0 days</td>\n",
       "      <td>0 days</td>\n",
       "      <td>2 days</td>\n",
       "      <td>0 days</td>\n",
       "      <td>0 days</td>\n",
       "      <td>0 days</td>\n",
       "      <td>2 days</td>\n",
       "    </tr>\n",
       "    <tr>\n",
       "      <th>2</th>\n",
       "      <td>17</td>\n",
       "      <td>257980</td>\n",
       "      <td>0 days</td>\n",
       "      <td>0 days</td>\n",
       "      <td>0 days</td>\n",
       "      <td>0 days</td>\n",
       "      <td>0 days</td>\n",
       "      <td>1 days</td>\n",
       "      <td>0 days</td>\n",
       "      <td>1 days</td>\n",
       "    </tr>\n",
       "    <tr>\n",
       "      <th>3</th>\n",
       "      <td>17</td>\n",
       "      <td>277042</td>\n",
       "      <td>0 days</td>\n",
       "      <td>0 days</td>\n",
       "      <td>0 days</td>\n",
       "      <td>0 days</td>\n",
       "      <td>0 days</td>\n",
       "      <td>2 days</td>\n",
       "      <td>0 days</td>\n",
       "      <td>2 days</td>\n",
       "    </tr>\n",
       "    <tr>\n",
       "      <th>4</th>\n",
       "      <td>20</td>\n",
       "      <td>264490</td>\n",
       "      <td>0 days</td>\n",
       "      <td>0 days</td>\n",
       "      <td>0 days</td>\n",
       "      <td>0 days</td>\n",
       "      <td>0 days</td>\n",
       "      <td>1 days</td>\n",
       "      <td>0 days</td>\n",
       "      <td>1 days</td>\n",
       "    </tr>\n",
       "    <tr>\n",
       "      <th>...</th>\n",
       "      <td>...</td>\n",
       "      <td>...</td>\n",
       "      <td>...</td>\n",
       "      <td>...</td>\n",
       "      <td>...</td>\n",
       "      <td>...</td>\n",
       "      <td>...</td>\n",
       "      <td>...</td>\n",
       "      <td>...</td>\n",
       "      <td>...</td>\n",
       "    </tr>\n",
       "    <tr>\n",
       "      <th>17176</th>\n",
       "      <td>99982</td>\n",
       "      <td>221194</td>\n",
       "      <td>0 days</td>\n",
       "      <td>0 days</td>\n",
       "      <td>0 days</td>\n",
       "      <td>5 days</td>\n",
       "      <td>7 days</td>\n",
       "      <td>0 days</td>\n",
       "      <td>0 days</td>\n",
       "      <td>7 days</td>\n",
       "    </tr>\n",
       "    <tr>\n",
       "      <th>17177</th>\n",
       "      <td>99982</td>\n",
       "      <td>239827</td>\n",
       "      <td>0 days</td>\n",
       "      <td>7 days</td>\n",
       "      <td>0 days</td>\n",
       "      <td>0 days</td>\n",
       "      <td>2 days</td>\n",
       "      <td>0 days</td>\n",
       "      <td>0 days</td>\n",
       "      <td>7 days</td>\n",
       "    </tr>\n",
       "    <tr>\n",
       "      <th>17178</th>\n",
       "      <td>99982</td>\n",
       "      <td>275958</td>\n",
       "      <td>0 days</td>\n",
       "      <td>0 days</td>\n",
       "      <td>0 days</td>\n",
       "      <td>0 days</td>\n",
       "      <td>5 days</td>\n",
       "      <td>0 days</td>\n",
       "      <td>0 days</td>\n",
       "      <td>5 days</td>\n",
       "    </tr>\n",
       "    <tr>\n",
       "      <th>17179</th>\n",
       "      <td>99985</td>\n",
       "      <td>279638</td>\n",
       "      <td>0 days</td>\n",
       "      <td>0 days</td>\n",
       "      <td>0 days</td>\n",
       "      <td>41 days</td>\n",
       "      <td>0 days</td>\n",
       "      <td>0 days</td>\n",
       "      <td>0 days</td>\n",
       "      <td>41 days</td>\n",
       "    </tr>\n",
       "    <tr>\n",
       "      <th>17180</th>\n",
       "      <td>99995</td>\n",
       "      <td>229633</td>\n",
       "      <td>0 days</td>\n",
       "      <td>0 days</td>\n",
       "      <td>0 days</td>\n",
       "      <td>0 days</td>\n",
       "      <td>0 days</td>\n",
       "      <td>1 days</td>\n",
       "      <td>0 days</td>\n",
       "      <td>1 days</td>\n",
       "    </tr>\n",
       "  </tbody>\n",
       "</table>\n",
       "<p>17181 rows × 10 columns</p>\n",
       "</div>"
      ],
      "text/plain": [
       "       subject_id  icustay_id  dobutamine_days  dopamine_days  \\\n",
       "0               3      211552           0 days         0 days   \n",
       "1               9      220597           0 days         0 days   \n",
       "2              17      257980           0 days         0 days   \n",
       "3              17      277042           0 days         0 days   \n",
       "4              20      264490           0 days         0 days   \n",
       "...           ...         ...              ...            ...   \n",
       "17176       99982      221194           0 days         0 days   \n",
       "17177       99982      239827           0 days         7 days   \n",
       "17178       99982      275958           0 days         0 days   \n",
       "17179       99985      279638           0 days         0 days   \n",
       "17180       99995      229633           0 days         0 days   \n",
       "\n",
       "       epinephrine_days  levophed_days  milrinone_days  neosynephrine_days  \\\n",
       "0                0 days         1 days          0 days              2 days   \n",
       "1                0 days         2 days          0 days              0 days   \n",
       "2                0 days         0 days          0 days              1 days   \n",
       "3                0 days         0 days          0 days              2 days   \n",
       "4                0 days         0 days          0 days              1 days   \n",
       "...                 ...            ...             ...                 ...   \n",
       "17176            0 days         5 days          7 days              0 days   \n",
       "17177            0 days         0 days          2 days              0 days   \n",
       "17178            0 days         0 days          5 days              0 days   \n",
       "17179            0 days        41 days          0 days              0 days   \n",
       "17180            0 days         0 days          0 days              1 days   \n",
       "\n",
       "       vasopressin_days  total_vasopressor_days  \n",
       "0                0 days                  2 days  \n",
       "1                0 days                  2 days  \n",
       "2                0 days                  1 days  \n",
       "3                0 days                  2 days  \n",
       "4                0 days                  1 days  \n",
       "...                 ...                     ...  \n",
       "17176            0 days                  7 days  \n",
       "17177            0 days                  7 days  \n",
       "17178            0 days                  5 days  \n",
       "17179            0 days                 41 days  \n",
       "17180            0 days                  1 days  \n",
       "\n",
       "[17181 rows x 10 columns]"
      ]
     },
     "execution_count": 4,
     "metadata": {},
     "output_type": "execute_result"
    }
   ],
   "source": [
    "df"
   ]
  },
  {
   "cell_type": "code",
   "execution_count": 5,
   "metadata": {
    "collapsed": false
   },
   "outputs": [
    {
     "data": {
      "text/plain": [
       "count                     17181\n",
       "mean     3 days 11:25:40.701938\n",
       "std      5 days 00:23:13.574825\n",
       "min             1 days 00:00:00\n",
       "25%             1 days 00:00:00\n",
       "50%             2 days 00:00:00\n",
       "75%             4 days 00:00:00\n",
       "max           351 days 00:00:00\n",
       "Name: total_vasopressor_days, dtype: object"
      ]
     },
     "execution_count": 5,
     "metadata": {},
     "output_type": "execute_result"
    }
   ],
   "source": [
    "df['total_vasopressor_days'].describe()"
   ]
  },
  {
   "cell_type": "code",
   "execution_count": 6,
   "metadata": {
    "collapsed": false
   },
   "outputs": [
    {
     "data": {
      "text/plain": [
       "Timedelta('2 days 00:00:00')"
      ]
     },
     "execution_count": 6,
     "metadata": {},
     "output_type": "execute_result"
    }
   ],
   "source": [
    "df['total_vasopressor_days'].median()"
   ]
  },
  {
   "cell_type": "markdown",
   "metadata": {
    "collapsed": true
   },
   "source": [
    "We can also just ask for this for carevue or metavision:"
   ]
  },
  {
   "cell_type": "code",
   "execution_count": 7,
   "metadata": {
    "collapsed": true
   },
   "outputs": [],
   "source": [
    "metavision = care_value.VasopressorDays(metavision_only=True).load_transform()"
   ]
  },
  {
   "cell_type": "code",
   "execution_count": 8,
   "metadata": {
    "collapsed": false
   },
   "outputs": [
    {
     "data": {
      "text/html": [
       "<div>\n",
       "<table border=\"1\" class=\"dataframe\">\n",
       "  <thead>\n",
       "    <tr style=\"text-align: right;\">\n",
       "      <th></th>\n",
       "      <th>subject_id</th>\n",
       "      <th>icustay_id</th>\n",
       "      <th>dobutamine_days</th>\n",
       "      <th>dopamine_days</th>\n",
       "      <th>epinephrine_days</th>\n",
       "      <th>levophed_days</th>\n",
       "      <th>milrinone_days</th>\n",
       "      <th>neosynephrine_days</th>\n",
       "      <th>vasopressin_days</th>\n",
       "      <th>total_vasopressor_days</th>\n",
       "    </tr>\n",
       "  </thead>\n",
       "  <tbody>\n",
       "    <tr>\n",
       "      <th>0</th>\n",
       "      <td>111</td>\n",
       "      <td>249202</td>\n",
       "      <td>0 days</td>\n",
       "      <td>0 days</td>\n",
       "      <td>2 days</td>\n",
       "      <td>1 days</td>\n",
       "      <td>0 days</td>\n",
       "      <td>1 days</td>\n",
       "      <td>1 days</td>\n",
       "      <td>2 days</td>\n",
       "    </tr>\n",
       "    <tr>\n",
       "      <th>1</th>\n",
       "      <td>124</td>\n",
       "      <td>256064</td>\n",
       "      <td>0 days</td>\n",
       "      <td>0 days</td>\n",
       "      <td>0 days</td>\n",
       "      <td>2 days</td>\n",
       "      <td>0 days</td>\n",
       "      <td>10 days</td>\n",
       "      <td>0 days</td>\n",
       "      <td>11 days</td>\n",
       "    </tr>\n",
       "    <tr>\n",
       "      <th>2</th>\n",
       "      <td>188</td>\n",
       "      <td>246866</td>\n",
       "      <td>0 days</td>\n",
       "      <td>0 days</td>\n",
       "      <td>0 days</td>\n",
       "      <td>0 days</td>\n",
       "      <td>0 days</td>\n",
       "      <td>4 days</td>\n",
       "      <td>0 days</td>\n",
       "      <td>4 days</td>\n",
       "    </tr>\n",
       "    <tr>\n",
       "      <th>3</th>\n",
       "      <td>188</td>\n",
       "      <td>284015</td>\n",
       "      <td>0 days</td>\n",
       "      <td>0 days</td>\n",
       "      <td>0 days</td>\n",
       "      <td>1 days</td>\n",
       "      <td>0 days</td>\n",
       "      <td>2 days</td>\n",
       "      <td>0 days</td>\n",
       "      <td>2 days</td>\n",
       "    </tr>\n",
       "    <tr>\n",
       "      <th>4</th>\n",
       "      <td>188</td>\n",
       "      <td>292343</td>\n",
       "      <td>0 days</td>\n",
       "      <td>0 days</td>\n",
       "      <td>0 days</td>\n",
       "      <td>0 days</td>\n",
       "      <td>0 days</td>\n",
       "      <td>1 days</td>\n",
       "      <td>0 days</td>\n",
       "      <td>1 days</td>\n",
       "    </tr>\n",
       "    <tr>\n",
       "      <th>...</th>\n",
       "      <td>...</td>\n",
       "      <td>...</td>\n",
       "      <td>...</td>\n",
       "      <td>...</td>\n",
       "      <td>...</td>\n",
       "      <td>...</td>\n",
       "      <td>...</td>\n",
       "      <td>...</td>\n",
       "      <td>...</td>\n",
       "      <td>...</td>\n",
       "    </tr>\n",
       "    <tr>\n",
       "      <th>7362</th>\n",
       "      <td>99982</td>\n",
       "      <td>221194</td>\n",
       "      <td>0 days</td>\n",
       "      <td>0 days</td>\n",
       "      <td>0 days</td>\n",
       "      <td>5 days</td>\n",
       "      <td>7 days</td>\n",
       "      <td>0 days</td>\n",
       "      <td>0 days</td>\n",
       "      <td>7 days</td>\n",
       "    </tr>\n",
       "    <tr>\n",
       "      <th>7363</th>\n",
       "      <td>99982</td>\n",
       "      <td>239827</td>\n",
       "      <td>0 days</td>\n",
       "      <td>7 days</td>\n",
       "      <td>0 days</td>\n",
       "      <td>0 days</td>\n",
       "      <td>2 days</td>\n",
       "      <td>0 days</td>\n",
       "      <td>0 days</td>\n",
       "      <td>7 days</td>\n",
       "    </tr>\n",
       "    <tr>\n",
       "      <th>7364</th>\n",
       "      <td>99982</td>\n",
       "      <td>275958</td>\n",
       "      <td>0 days</td>\n",
       "      <td>0 days</td>\n",
       "      <td>0 days</td>\n",
       "      <td>0 days</td>\n",
       "      <td>5 days</td>\n",
       "      <td>0 days</td>\n",
       "      <td>0 days</td>\n",
       "      <td>5 days</td>\n",
       "    </tr>\n",
       "    <tr>\n",
       "      <th>7365</th>\n",
       "      <td>99985</td>\n",
       "      <td>279638</td>\n",
       "      <td>0 days</td>\n",
       "      <td>0 days</td>\n",
       "      <td>0 days</td>\n",
       "      <td>41 days</td>\n",
       "      <td>0 days</td>\n",
       "      <td>0 days</td>\n",
       "      <td>0 days</td>\n",
       "      <td>41 days</td>\n",
       "    </tr>\n",
       "    <tr>\n",
       "      <th>7366</th>\n",
       "      <td>99995</td>\n",
       "      <td>229633</td>\n",
       "      <td>0 days</td>\n",
       "      <td>0 days</td>\n",
       "      <td>0 days</td>\n",
       "      <td>0 days</td>\n",
       "      <td>0 days</td>\n",
       "      <td>1 days</td>\n",
       "      <td>0 days</td>\n",
       "      <td>1 days</td>\n",
       "    </tr>\n",
       "  </tbody>\n",
       "</table>\n",
       "<p>7367 rows × 10 columns</p>\n",
       "</div>"
      ],
      "text/plain": [
       "      subject_id  icustay_id  dobutamine_days  dopamine_days  \\\n",
       "0            111      249202           0 days         0 days   \n",
       "1            124      256064           0 days         0 days   \n",
       "2            188      246866           0 days         0 days   \n",
       "3            188      284015           0 days         0 days   \n",
       "4            188      292343           0 days         0 days   \n",
       "...          ...         ...              ...            ...   \n",
       "7362       99982      221194           0 days         0 days   \n",
       "7363       99982      239827           0 days         7 days   \n",
       "7364       99982      275958           0 days         0 days   \n",
       "7365       99985      279638           0 days         0 days   \n",
       "7366       99995      229633           0 days         0 days   \n",
       "\n",
       "      epinephrine_days  levophed_days  milrinone_days  neosynephrine_days  \\\n",
       "0               2 days         1 days          0 days              1 days   \n",
       "1               0 days         2 days          0 days             10 days   \n",
       "2               0 days         0 days          0 days              4 days   \n",
       "3               0 days         1 days          0 days              2 days   \n",
       "4               0 days         0 days          0 days              1 days   \n",
       "...                ...            ...             ...                 ...   \n",
       "7362            0 days         5 days          7 days              0 days   \n",
       "7363            0 days         0 days          2 days              0 days   \n",
       "7364            0 days         0 days          5 days              0 days   \n",
       "7365            0 days        41 days          0 days              0 days   \n",
       "7366            0 days         0 days          0 days              1 days   \n",
       "\n",
       "      vasopressin_days  total_vasopressor_days  \n",
       "0               1 days                  2 days  \n",
       "1               0 days                 11 days  \n",
       "2               0 days                  4 days  \n",
       "3               0 days                  2 days  \n",
       "4               0 days                  1 days  \n",
       "...                ...                     ...  \n",
       "7362            0 days                  7 days  \n",
       "7363            0 days                  7 days  \n",
       "7364            0 days                  5 days  \n",
       "7365            0 days                 41 days  \n",
       "7366            0 days                  1 days  \n",
       "\n",
       "[7367 rows x 10 columns]"
      ]
     },
     "execution_count": 8,
     "metadata": {},
     "output_type": "execute_result"
    }
   ],
   "source": [
    "metavision"
   ]
  },
  {
   "cell_type": "code",
   "execution_count": 9,
   "metadata": {
    "collapsed": false
   },
   "outputs": [
    {
     "data": {
      "text/plain": [
       "count                      7367\n",
       "mean     3 days 13:39:58.859780\n",
       "std      5 days 22:41:48.680177\n",
       "min             1 days 00:00:00\n",
       "25%             1 days 00:00:00\n",
       "50%             2 days 00:00:00\n",
       "75%             4 days 00:00:00\n",
       "max           351 days 00:00:00\n",
       "Name: total_vasopressor_days, dtype: object"
      ]
     },
     "execution_count": 9,
     "metadata": {},
     "output_type": "execute_result"
    }
   ],
   "source": [
    "metavision['total_vasopressor_days'].describe()"
   ]
  },
  {
   "cell_type": "code",
   "execution_count": 10,
   "metadata": {
    "collapsed": false
   },
   "outputs": [
    {
     "data": {
      "text/plain": [
       "Timedelta('2 days 00:00:00')"
      ]
     },
     "execution_count": 10,
     "metadata": {},
     "output_type": "execute_result"
    }
   ],
   "source": [
    "metavision['total_vasopressor_days'].median()"
   ]
  },
  {
   "cell_type": "code",
   "execution_count": null,
   "metadata": {
    "collapsed": true
   },
   "outputs": [],
   "source": []
  }
 ],
 "metadata": {
  "kernelspec": {
   "display_name": "Python 3",
   "language": "python",
   "name": "python3"
  },
  "language_info": {
   "codemirror_mode": {
    "name": "ipython",
    "version": 3
   },
   "file_extension": ".py",
   "mimetype": "text/x-python",
   "name": "python",
   "nbconvert_exporter": "python",
   "pygments_lexer": "ipython3",
   "version": "3.4.3"
  }
 },
 "nbformat": 4,
 "nbformat_minor": 0
}
