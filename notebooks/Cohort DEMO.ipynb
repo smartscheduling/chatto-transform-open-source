{
 "cells": [
  {
   "cell_type": "markdown",
   "metadata": {},
   "source": [
    "### We can use the `cohorts` module to filter down to a cohort of ICU stays"
   ]
  },
  {
   "cell_type": "code",
   "execution_count": 1,
   "metadata": {
    "collapsed": false
   },
   "outputs": [],
   "source": [
    "from chatto_transform.sessions.mimic import cohorts"
   ]
  },
  {
   "cell_type": "markdown",
   "metadata": {},
   "source": [
    "### We start by making a new `Cohort`."
   ]
  },
  {
   "cell_type": "code",
   "execution_count": 2,
   "metadata": {
    "collapsed": false
   },
   "outputs": [],
   "source": [
    "my_cohort = cohorts.Cohort()"
   ]
  },
  {
   "cell_type": "markdown",
   "metadata": {},
   "source": [
    "### Next we apply various filters using widgets.\n",
    "\n",
    "### We can start by filtering medications. In this example, select *Acetaminophen-IV* from the select box, then click *Execute*."
   ]
  },
  {
   "cell_type": "code",
   "execution_count": 3,
   "metadata": {
    "collapsed": false
   },
   "outputs": [],
   "source": [
    "my_cohort.filter_medications()"
   ]
  },
  {
   "cell_type": "markdown",
   "metadata": {},
   "source": [
    "### Now let's filter down to ICU stays that had Sodium-related labs.\n",
    "\n",
    "### Click the select box and begin by typing the first few letters of \"Sodium\". Now hold down Shift while clicking all of the *Sodium* lab events in the list.\n",
    "\n",
    "### Then click *Execute* to lock it in."
   ]
  },
  {
   "cell_type": "code",
   "execution_count": 4,
   "metadata": {
    "collapsed": true
   },
   "outputs": [],
   "source": [
    "my_cohort.filter_labevents()"
   ]
  },
  {
   "cell_type": "markdown",
   "metadata": {},
   "source": [
    "### Finally, let's filter down to ICU stays where the patient died within 12 months of hospital admission.\n",
    "\n",
    "### Click the \"Died with 12 months of hospital admission\" radio button, then click *Execute*."
   ]
  },
  {
   "cell_type": "code",
   "execution_count": 5,
   "metadata": {
    "collapsed": false
   },
   "outputs": [],
   "source": [
    "my_cohort.filter_death()"
   ]
  },
  {
   "cell_type": "markdown",
   "metadata": {},
   "source": [
    "### Now that we have selected various filters for our cohort, let's get some summary info about it."
   ]
  },
  {
   "cell_type": "code",
   "execution_count": 6,
   "metadata": {
    "collapsed": false
   },
   "outputs": [
    {
     "data": {
      "text/html": [
       "<div>\n",
       "<table border=\"1\" class=\"dataframe\">\n",
       "  <thead>\n",
       "    <tr style=\"text-align: right;\">\n",
       "      <th></th>\n",
       "      <th>summary</th>\n",
       "    </tr>\n",
       "  </thead>\n",
       "  <tbody>\n",
       "    <tr>\n",
       "      <th>icustays</th>\n",
       "      <td>272</td>\n",
       "    </tr>\n",
       "    <tr>\n",
       "      <th>hadms</th>\n",
       "      <td>244</td>\n",
       "    </tr>\n",
       "    <tr>\n",
       "      <th>patients</th>\n",
       "      <td>236</td>\n",
       "    </tr>\n",
       "    <tr>\n",
       "      <th>icustay_deaths</th>\n",
       "      <td>109</td>\n",
       "    </tr>\n",
       "    <tr>\n",
       "      <th>hadm_deaths</th>\n",
       "      <td>153</td>\n",
       "    </tr>\n",
       "    <tr>\n",
       "      <th>12mo_deaths</th>\n",
       "      <td>272</td>\n",
       "    </tr>\n",
       "    <tr>\n",
       "      <th>first_careunits</th>\n",
       "      <td>6</td>\n",
       "    </tr>\n",
       "    <tr>\n",
       "      <th>last_careunits</th>\n",
       "      <td>6</td>\n",
       "    </tr>\n",
       "    <tr>\n",
       "      <th>avg_icu_los</th>\n",
       "      <td>7 days 22:00:14.338235</td>\n",
       "    </tr>\n",
       "    <tr>\n",
       "      <th>avg_hadm_los</th>\n",
       "      <td>16 days 19:10:11.911764</td>\n",
       "    </tr>\n",
       "  </tbody>\n",
       "</table>\n",
       "</div>"
      ],
      "text/plain": [
       "                                 summary\n",
       "icustays                             272\n",
       "hadms                                244\n",
       "patients                             236\n",
       "icustay_deaths                       109\n",
       "hadm_deaths                          153\n",
       "12mo_deaths                          272\n",
       "first_careunits                        6\n",
       "last_careunits                         6\n",
       "avg_icu_los       7 days 22:00:14.338235\n",
       "avg_hadm_los     16 days 19:10:11.911764"
      ]
     },
     "execution_count": 6,
     "metadata": {},
     "output_type": "execute_result"
    }
   ],
   "source": [
    "my_cohort.summary()"
   ]
  },
  {
   "cell_type": "markdown",
   "metadata": {},
   "source": [
    "### We can get all the `icustay_id`'s for our cohort..."
   ]
  },
  {
   "cell_type": "code",
   "execution_count": 7,
   "metadata": {
    "collapsed": false
   },
   "outputs": [
    {
     "data": {
      "text/html": [
       "<div>\n",
       "<table border=\"1\" class=\"dataframe\">\n",
       "  <thead>\n",
       "    <tr style=\"text-align: right;\">\n",
       "      <th></th>\n",
       "      <th>icustay_ids</th>\n",
       "    </tr>\n",
       "  </thead>\n",
       "  <tbody>\n",
       "    <tr>\n",
       "      <th>0</th>\n",
       "      <td>238824</td>\n",
       "    </tr>\n",
       "    <tr>\n",
       "      <th>1</th>\n",
       "      <td>215525</td>\n",
       "    </tr>\n",
       "    <tr>\n",
       "      <th>2</th>\n",
       "      <td>222399</td>\n",
       "    </tr>\n",
       "    <tr>\n",
       "      <th>3</th>\n",
       "      <td>245884</td>\n",
       "    </tr>\n",
       "    <tr>\n",
       "      <th>4</th>\n",
       "      <td>203723</td>\n",
       "    </tr>\n",
       "    <tr>\n",
       "      <th>...</th>\n",
       "      <td>...</td>\n",
       "    </tr>\n",
       "    <tr>\n",
       "      <th>267</th>\n",
       "      <td>247620</td>\n",
       "    </tr>\n",
       "    <tr>\n",
       "      <th>268</th>\n",
       "      <td>266642</td>\n",
       "    </tr>\n",
       "    <tr>\n",
       "      <th>269</th>\n",
       "      <td>260008</td>\n",
       "    </tr>\n",
       "    <tr>\n",
       "      <th>270</th>\n",
       "      <td>275466</td>\n",
       "    </tr>\n",
       "    <tr>\n",
       "      <th>271</th>\n",
       "      <td>274147</td>\n",
       "    </tr>\n",
       "  </tbody>\n",
       "</table>\n",
       "<p>272 rows × 1 columns</p>\n",
       "</div>"
      ],
      "text/plain": [
       "     icustay_ids\n",
       "0         238824\n",
       "1         215525\n",
       "2         222399\n",
       "3         245884\n",
       "4         203723\n",
       "..           ...\n",
       "267       247620\n",
       "268       266642\n",
       "269       260008\n",
       "270       275466\n",
       "271       274147\n",
       "\n",
       "[272 rows x 1 columns]"
      ]
     },
     "execution_count": 7,
     "metadata": {},
     "output_type": "execute_result"
    }
   ],
   "source": [
    "my_cohort.icustay_ids()"
   ]
  },
  {
   "cell_type": "markdown",
   "metadata": {},
   "source": [
    "### ...Or load all the data right here and get to analyzing."
   ]
  },
  {
   "cell_type": "code",
   "execution_count": 8,
   "metadata": {
    "collapsed": true
   },
   "outputs": [],
   "source": [
    "df = my_cohort.load()"
   ]
  },
  {
   "cell_type": "code",
   "execution_count": 9,
   "metadata": {
    "collapsed": false
   },
   "outputs": [
    {
     "data": {
      "text/html": [
       "<div>\n",
       "<table border=\"1\" class=\"dataframe\">\n",
       "  <thead>\n",
       "    <tr style=\"text-align: right;\">\n",
       "      <th></th>\n",
       "      <th>row_id</th>\n",
       "      <th>subject_id</th>\n",
       "      <th>hadm_id</th>\n",
       "      <th>icustay_id</th>\n",
       "      <th>dbsource</th>\n",
       "      <th>...</th>\n",
       "      <th>first_wardid</th>\n",
       "      <th>last_wardid</th>\n",
       "      <th>intime</th>\n",
       "      <th>outtime</th>\n",
       "      <th>los</th>\n",
       "    </tr>\n",
       "  </thead>\n",
       "  <tbody>\n",
       "    <tr>\n",
       "      <th>5109</th>\n",
       "      <td>5054</td>\n",
       "      <td>3977</td>\n",
       "      <td>133203</td>\n",
       "      <td>238824</td>\n",
       "      <td>metavision</td>\n",
       "      <td>...</td>\n",
       "      <td>50</td>\n",
       "      <td>50</td>\n",
       "      <td>2148-10-01 04:25:40</td>\n",
       "      <td>2148-10-03 01:17:57</td>\n",
       "      <td>1.8696</td>\n",
       "    </tr>\n",
       "    <tr>\n",
       "      <th>7009</th>\n",
       "      <td>7043</td>\n",
       "      <td>5544</td>\n",
       "      <td>116545</td>\n",
       "      <td>215525</td>\n",
       "      <td>metavision</td>\n",
       "      <td>...</td>\n",
       "      <td>52</td>\n",
       "      <td>52</td>\n",
       "      <td>2123-11-10 19:06:14</td>\n",
       "      <td>2123-11-15 21:07:21</td>\n",
       "      <td>5.0841</td>\n",
       "    </tr>\n",
       "    <tr>\n",
       "      <th>7380</th>\n",
       "      <td>6573</td>\n",
       "      <td>5171</td>\n",
       "      <td>125124</td>\n",
       "      <td>222399</td>\n",
       "      <td>metavision</td>\n",
       "      <td>...</td>\n",
       "      <td>23</td>\n",
       "      <td>23</td>\n",
       "      <td>2171-10-15 16:38:43</td>\n",
       "      <td>2171-10-20 13:50:00</td>\n",
       "      <td>4.8828</td>\n",
       "    </tr>\n",
       "    <tr>\n",
       "      <th>10945</th>\n",
       "      <td>10705</td>\n",
       "      <td>8426</td>\n",
       "      <td>142053</td>\n",
       "      <td>245884</td>\n",
       "      <td>metavision</td>\n",
       "      <td>...</td>\n",
       "      <td>7</td>\n",
       "      <td>7</td>\n",
       "      <td>2115-05-17 17:55:57</td>\n",
       "      <td>2115-05-21 01:37:22</td>\n",
       "      <td>3.3204</td>\n",
       "    </tr>\n",
       "    <tr>\n",
       "      <th>10946</th>\n",
       "      <td>10706</td>\n",
       "      <td>8426</td>\n",
       "      <td>142053</td>\n",
       "      <td>203723</td>\n",
       "      <td>metavision</td>\n",
       "      <td>...</td>\n",
       "      <td>50</td>\n",
       "      <td>50</td>\n",
       "      <td>2115-05-22 19:24:07</td>\n",
       "      <td>2115-05-25 15:08:06</td>\n",
       "      <td>2.8222</td>\n",
       "    </tr>\n",
       "    <tr>\n",
       "      <th>...</th>\n",
       "      <td>...</td>\n",
       "      <td>...</td>\n",
       "      <td>...</td>\n",
       "      <td>...</td>\n",
       "      <td>...</td>\n",
       "      <td>...</td>\n",
       "      <td>...</td>\n",
       "      <td>...</td>\n",
       "      <td>...</td>\n",
       "      <td>...</td>\n",
       "      <td>...</td>\n",
       "    </tr>\n",
       "    <tr>\n",
       "      <th>60705</th>\n",
       "      <td>59074</td>\n",
       "      <td>92775</td>\n",
       "      <td>197806</td>\n",
       "      <td>247620</td>\n",
       "      <td>metavision</td>\n",
       "      <td>...</td>\n",
       "      <td>52</td>\n",
       "      <td>52</td>\n",
       "      <td>2146-10-07 00:15:55</td>\n",
       "      <td>2146-10-08 18:24:23</td>\n",
       "      <td>1.7559</td>\n",
       "    </tr>\n",
       "    <tr>\n",
       "      <th>60852</th>\n",
       "      <td>57939</td>\n",
       "      <td>89419</td>\n",
       "      <td>150711</td>\n",
       "      <td>266642</td>\n",
       "      <td>metavision</td>\n",
       "      <td>...</td>\n",
       "      <td>50</td>\n",
       "      <td>50</td>\n",
       "      <td>2170-09-10 20:58:53</td>\n",
       "      <td>2170-09-16 00:35:05</td>\n",
       "      <td>5.1501</td>\n",
       "    </tr>\n",
       "    <tr>\n",
       "      <th>61042</th>\n",
       "      <td>59115</td>\n",
       "      <td>92907</td>\n",
       "      <td>101124</td>\n",
       "      <td>260008</td>\n",
       "      <td>metavision</td>\n",
       "      <td>...</td>\n",
       "      <td>12</td>\n",
       "      <td>12</td>\n",
       "      <td>2197-01-06 16:24:52</td>\n",
       "      <td>2197-01-09 18:31:34</td>\n",
       "      <td>3.0880</td>\n",
       "    </tr>\n",
       "    <tr>\n",
       "      <th>61128</th>\n",
       "      <td>60979</td>\n",
       "      <td>98344</td>\n",
       "      <td>170039</td>\n",
       "      <td>275466</td>\n",
       "      <td>metavision</td>\n",
       "      <td>...</td>\n",
       "      <td>15</td>\n",
       "      <td>15</td>\n",
       "      <td>2153-01-27 11:10:44</td>\n",
       "      <td>2153-02-22 11:41:14</td>\n",
       "      <td>26.0212</td>\n",
       "    </tr>\n",
       "    <tr>\n",
       "      <th>61266</th>\n",
       "      <td>59897</td>\n",
       "      <td>95201</td>\n",
       "      <td>192304</td>\n",
       "      <td>274147</td>\n",
       "      <td>metavision</td>\n",
       "      <td>...</td>\n",
       "      <td>52</td>\n",
       "      <td>14</td>\n",
       "      <td>2174-04-29 01:32:55</td>\n",
       "      <td>2174-07-06 00:54:46</td>\n",
       "      <td>67.9735</td>\n",
       "    </tr>\n",
       "  </tbody>\n",
       "</table>\n",
       "<p>272 rows × 12 columns</p>\n",
       "</div>"
      ],
      "text/plain": [
       "       row_id  subject_id  hadm_id  icustay_id    dbsource   ...     \\\n",
       "5109     5054        3977   133203      238824  metavision   ...      \n",
       "7009     7043        5544   116545      215525  metavision   ...      \n",
       "7380     6573        5171   125124      222399  metavision   ...      \n",
       "10945   10705        8426   142053      245884  metavision   ...      \n",
       "10946   10706        8426   142053      203723  metavision   ...      \n",
       "...       ...         ...      ...         ...         ...   ...      \n",
       "60705   59074       92775   197806      247620  metavision   ...      \n",
       "60852   57939       89419   150711      266642  metavision   ...      \n",
       "61042   59115       92907   101124      260008  metavision   ...      \n",
       "61128   60979       98344   170039      275466  metavision   ...      \n",
       "61266   59897       95201   192304      274147  metavision   ...      \n",
       "\n",
       "      first_wardid last_wardid              intime             outtime  \\\n",
       "5109            50          50 2148-10-01 04:25:40 2148-10-03 01:17:57   \n",
       "7009            52          52 2123-11-10 19:06:14 2123-11-15 21:07:21   \n",
       "7380            23          23 2171-10-15 16:38:43 2171-10-20 13:50:00   \n",
       "10945            7           7 2115-05-17 17:55:57 2115-05-21 01:37:22   \n",
       "10946           50          50 2115-05-22 19:24:07 2115-05-25 15:08:06   \n",
       "...            ...         ...                 ...                 ...   \n",
       "60705           52          52 2146-10-07 00:15:55 2146-10-08 18:24:23   \n",
       "60852           50          50 2170-09-10 20:58:53 2170-09-16 00:35:05   \n",
       "61042           12          12 2197-01-06 16:24:52 2197-01-09 18:31:34   \n",
       "61128           15          15 2153-01-27 11:10:44 2153-02-22 11:41:14   \n",
       "61266           52          14 2174-04-29 01:32:55 2174-07-06 00:54:46   \n",
       "\n",
       "           los  \n",
       "5109    1.8696  \n",
       "7009    5.0841  \n",
       "7380    4.8828  \n",
       "10945   3.3204  \n",
       "10946   2.8222  \n",
       "...        ...  \n",
       "60705   1.7559  \n",
       "60852   5.1501  \n",
       "61042   3.0880  \n",
       "61128  26.0212  \n",
       "61266  67.9735  \n",
       "\n",
       "[272 rows x 12 columns]"
      ]
     },
     "execution_count": 9,
     "metadata": {},
     "output_type": "execute_result"
    }
   ],
   "source": [
    "df"
   ]
  },
  {
   "cell_type": "markdown",
   "metadata": {},
   "source": [
    "### I dunno, let's look at a plot of our cohort's lengths of stay in days"
   ]
  },
  {
   "cell_type": "code",
   "execution_count": 10,
   "metadata": {
    "collapsed": false
   },
   "outputs": [
    {
     "data": {
      "text/plain": [
       "<matplotlib.axes._subplots.AxesSubplot at 0x10ed79128>"
      ]
     },
     "execution_count": 10,
     "metadata": {},
     "output_type": "execute_result"
    },
    {
     "data": {
      "image/png": "[encoded data removed]",
      "text/plain": [
       "<matplotlib.figure.Figure at 0x106c2da90>"
      ]
     },
     "metadata": {},
     "output_type": "display_data"
    }
   ],
   "source": [
    "%matplotlib inline\n",
    "df['los'].plot(kind='hist')"
   ]
  },
  {
   "cell_type": "code",
   "execution_count": null,
   "metadata": {
    "collapsed": true
   },
   "outputs": [],
   "source": []
  }
 ],
 "metadata": {
  "kernelspec": {
   "display_name": "Python 3",
   "language": "python",
   "name": "python3"
  },
  "language_info": {
   "codemirror_mode": {
    "name": "ipython",
    "version": 3
   },
   "file_extension": ".py",
   "mimetype": "text/x-python",
   "name": "python",
   "nbconvert_exporter": "python",
   "pygments_lexer": "ipython3",
   "version": "3.4.3"
  }
 },
 "nbformat": 4,
 "nbformat_minor": 0
}
