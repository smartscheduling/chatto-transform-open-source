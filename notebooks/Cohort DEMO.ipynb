{
 "cells": [
  {
   "cell_type": "markdown",
   "metadata": {},
   "source": [
    "### We can use the `cohorts` module to filter down to a cohort of ICU stays"
   ]
  },
  {
   "cell_type": "code",
   "execution_count": 1,
   "metadata": {
    "collapsed": false
   },
   "outputs": [],
   "source": [
    "from chatto_transform.sessions.mimic import cohorts"
   ]
  },
  {
   "cell_type": "markdown",
   "metadata": {},
   "source": [
    "### We start by making a new `Cohort`."
   ]
  },
  {
   "cell_type": "code",
   "execution_count": 2,
   "metadata": {
    "collapsed": false
   },
   "outputs": [],
   "source": [
    "my_cohort = cohorts.Cohort()"
   ]
  },
  {
   "cell_type": "markdown",
   "metadata": {},
   "source": [
    "### Next we apply various filters using widgets.\n",
    "\n",
    "### We can start by filtering medications. In this example, select *Acetaminophen-IV* from the select box, then click *Execute*."
   ]
  },
  {
   "cell_type": "code",
   "execution_count": 3,
   "metadata": {
    "collapsed": false
   },
   "outputs": [],
   "source": [
    "my_cohort.filter_medications()"
   ]
  },
  {
   "cell_type": "markdown",
   "metadata": {},
   "source": [
    "### Now let's filter down to ICU stays that had Sodium-related labs.\n",
    "\n",
    "### Click the select box and begin by typing the first few letters of \"Sodium\". Now hold down Shift while clicking all of the *Sodium* lab events in the list.\n",
    "\n",
    "### Then click *Execute* to lock it in."
   ]
  },
  {
   "cell_type": "code",
   "execution_count": 4,
   "metadata": {
    "collapsed": true
   },
   "outputs": [],
   "source": [
    "my_cohort.filter_labevents()"
   ]
  },
  {
   "cell_type": "markdown",
   "metadata": {},
   "source": [
    "### We can filter down to ICU stays where there was a diagnoses or procedure with certain ICD9 codes.\n",
    "\n",
    "### In the text field, type in `428%` and press Enter. Then click *Execute*.\n",
    "\n",
    "#### The `%` is a wildcard - it will match any ICD9 code starting with 428- in this case it has to do with heart failure."
   ]
  },
  {
   "cell_type": "code",
   "execution_count": 6,
   "metadata": {
    "collapsed": true
   },
   "outputs": [],
   "source": [
    "my_cohort.filter_icd9_codes()"
   ]
  },
  {
   "cell_type": "markdown",
   "metadata": {},
   "source": [
    "### Finally, let's filter down to ICU stays where the patient died within 12 months of hospital admission.\n",
    "\n",
    "### Click the \"Died with 12 months of hospital admission\" radio button, then click *Execute*."
   ]
  },
  {
   "cell_type": "code",
   "execution_count": 7,
   "metadata": {
    "collapsed": false
   },
   "outputs": [],
   "source": [
    "my_cohort.filter_death()"
   ]
  },
  {
   "cell_type": "markdown",
   "metadata": {},
   "source": [
    "### Now that we have selected various filters for our cohort, let's get some summary info about it.\n",
    "\n",
    "### Note: This will take a minute or two to finish running the first time."
   ]
  },
  {
   "cell_type": "code",
   "execution_count": 10,
   "metadata": {
    "collapsed": false
   },
   "outputs": [
    {
     "data": {
      "text/html": [
       "<div>\n",
       "<table border=\"1\" class=\"dataframe\">\n",
       "  <thead>\n",
       "    <tr style=\"text-align: right;\">\n",
       "      <th></th>\n",
       "      <th>summary</th>\n",
       "    </tr>\n",
       "  </thead>\n",
       "  <tbody>\n",
       "    <tr>\n",
       "      <th>icustays</th>\n",
       "      <td>89</td>\n",
       "    </tr>\n",
       "    <tr>\n",
       "      <th>hadms</th>\n",
       "      <td>75</td>\n",
       "    </tr>\n",
       "    <tr>\n",
       "      <th>patients</th>\n",
       "      <td>74</td>\n",
       "    </tr>\n",
       "    <tr>\n",
       "      <th>icustay_deaths</th>\n",
       "      <td>29</td>\n",
       "    </tr>\n",
       "    <tr>\n",
       "      <th>hadm_deaths</th>\n",
       "      <td>44</td>\n",
       "    </tr>\n",
       "    <tr>\n",
       "      <th>12mo_deaths</th>\n",
       "      <td>89</td>\n",
       "    </tr>\n",
       "    <tr>\n",
       "      <th>first_careunits</th>\n",
       "      <td>6</td>\n",
       "    </tr>\n",
       "    <tr>\n",
       "      <th>last_careunits</th>\n",
       "      <td>6</td>\n",
       "    </tr>\n",
       "    <tr>\n",
       "      <th>avg_icu_los</th>\n",
       "      <td>8 days 13:16:26.292134</td>\n",
       "    </tr>\n",
       "    <tr>\n",
       "      <th>avg_hadm_los</th>\n",
       "      <td>17 days 18:33:06.741573</td>\n",
       "    </tr>\n",
       "  </tbody>\n",
       "</table>\n",
       "</div>"
      ],
      "text/plain": [
       "                                 summary\n",
       "icustays                              89\n",
       "hadms                                 75\n",
       "patients                              74\n",
       "icustay_deaths                        29\n",
       "hadm_deaths                           44\n",
       "12mo_deaths                           89\n",
       "first_careunits                        6\n",
       "last_careunits                         6\n",
       "avg_icu_los       8 days 13:16:26.292134\n",
       "avg_hadm_los     17 days 18:33:06.741573"
      ]
     },
     "execution_count": 10,
     "metadata": {},
     "output_type": "execute_result"
    }
   ],
   "source": [
    "my_cohort.summary()"
   ]
  },
  {
   "cell_type": "markdown",
   "metadata": {},
   "source": [
    "### We can get all the `icustay_id`'s for our cohort..."
   ]
  },
  {
   "cell_type": "code",
   "execution_count": 9,
   "metadata": {
    "collapsed": false
   },
   "outputs": [
    {
     "data": {
      "text/html": [
       "<div>\n",
       "<table border=\"1\" class=\"dataframe\">\n",
       "  <thead>\n",
       "    <tr style=\"text-align: right;\">\n",
       "      <th></th>\n",
       "      <th>icustay_ids</th>\n",
       "    </tr>\n",
       "  </thead>\n",
       "  <tbody>\n",
       "    <tr>\n",
       "      <th>0</th>\n",
       "      <td>215525</td>\n",
       "    </tr>\n",
       "    <tr>\n",
       "      <th>1</th>\n",
       "      <td>271548</td>\n",
       "    </tr>\n",
       "    <tr>\n",
       "      <th>2</th>\n",
       "      <td>267968</td>\n",
       "    </tr>\n",
       "    <tr>\n",
       "      <th>3</th>\n",
       "      <td>239981</td>\n",
       "    </tr>\n",
       "    <tr>\n",
       "      <th>4</th>\n",
       "      <td>245884</td>\n",
       "    </tr>\n",
       "    <tr>\n",
       "      <th>...</th>\n",
       "      <td>...</td>\n",
       "    </tr>\n",
       "    <tr>\n",
       "      <th>84</th>\n",
       "      <td>274258</td>\n",
       "    </tr>\n",
       "    <tr>\n",
       "      <th>85</th>\n",
       "      <td>205777</td>\n",
       "    </tr>\n",
       "    <tr>\n",
       "      <th>86</th>\n",
       "      <td>278168</td>\n",
       "    </tr>\n",
       "    <tr>\n",
       "      <th>87</th>\n",
       "      <td>268249</td>\n",
       "    </tr>\n",
       "    <tr>\n",
       "      <th>88</th>\n",
       "      <td>212472</td>\n",
       "    </tr>\n",
       "  </tbody>\n",
       "</table>\n",
       "<p>89 rows × 1 columns</p>\n",
       "</div>"
      ],
      "text/plain": [
       "    icustay_ids\n",
       "0        215525\n",
       "1        271548\n",
       "2        267968\n",
       "3        239981\n",
       "4        245884\n",
       "..          ...\n",
       "84       274258\n",
       "85       205777\n",
       "86       278168\n",
       "87       268249\n",
       "88       212472\n",
       "\n",
       "[89 rows x 1 columns]"
      ]
     },
     "execution_count": 9,
     "metadata": {},
     "output_type": "execute_result"
    }
   ],
   "source": [
    "my_cohort.icustay_ids()"
   ]
  },
  {
   "cell_type": "markdown",
   "metadata": {},
   "source": [
    "### ...Or load all the data right here and get to analyzing."
   ]
  },
  {
   "cell_type": "code",
   "execution_count": 11,
   "metadata": {
    "collapsed": true
   },
   "outputs": [],
   "source": [
    "df = my_cohort.load()"
   ]
  },
  {
   "cell_type": "code",
   "execution_count": 12,
   "metadata": {
    "collapsed": false
   },
   "outputs": [
    {
     "data": {
      "text/html": [
       "<div>\n",
       "<table border=\"1\" class=\"dataframe\">\n",
       "  <thead>\n",
       "    <tr style=\"text-align: right;\">\n",
       "      <th></th>\n",
       "      <th>row_id</th>\n",
       "      <th>subject_id</th>\n",
       "      <th>hadm_id</th>\n",
       "      <th>icustay_id</th>\n",
       "      <th>dbsource</th>\n",
       "      <th>...</th>\n",
       "      <th>first_wardid</th>\n",
       "      <th>last_wardid</th>\n",
       "      <th>intime</th>\n",
       "      <th>outtime</th>\n",
       "      <th>los</th>\n",
       "    </tr>\n",
       "  </thead>\n",
       "  <tbody>\n",
       "    <tr>\n",
       "      <th>6192</th>\n",
       "      <td>7043</td>\n",
       "      <td>5544</td>\n",
       "      <td>116545</td>\n",
       "      <td>215525</td>\n",
       "      <td>metavision</td>\n",
       "      <td>...</td>\n",
       "      <td>52</td>\n",
       "      <td>52</td>\n",
       "      <td>2123-11-10 19:06:14</td>\n",
       "      <td>2123-11-15 21:07:21</td>\n",
       "      <td>5.0841</td>\n",
       "    </tr>\n",
       "    <tr>\n",
       "      <th>9916</th>\n",
       "      <td>15479</td>\n",
       "      <td>12122</td>\n",
       "      <td>100779</td>\n",
       "      <td>271548</td>\n",
       "      <td>metavision</td>\n",
       "      <td>...</td>\n",
       "      <td>14</td>\n",
       "      <td>14</td>\n",
       "      <td>2203-08-03 16:33:23</td>\n",
       "      <td>2203-08-29 19:36:06</td>\n",
       "      <td>26.1269</td>\n",
       "    </tr>\n",
       "    <tr>\n",
       "      <th>10325</th>\n",
       "      <td>13758</td>\n",
       "      <td>10814</td>\n",
       "      <td>119849</td>\n",
       "      <td>267968</td>\n",
       "      <td>metavision</td>\n",
       "      <td>...</td>\n",
       "      <td>23</td>\n",
       "      <td>23</td>\n",
       "      <td>2163-11-04 19:45:55</td>\n",
       "      <td>2163-11-17 23:24:49</td>\n",
       "      <td>13.1520</td>\n",
       "    </tr>\n",
       "    <tr>\n",
       "      <th>10751</th>\n",
       "      <td>15514</td>\n",
       "      <td>12149</td>\n",
       "      <td>103934</td>\n",
       "      <td>239981</td>\n",
       "      <td>metavision</td>\n",
       "      <td>...</td>\n",
       "      <td>7</td>\n",
       "      <td>7</td>\n",
       "      <td>2121-08-10 16:31:41</td>\n",
       "      <td>2121-08-12 14:43:13</td>\n",
       "      <td>1.9247</td>\n",
       "    </tr>\n",
       "    <tr>\n",
       "      <th>19229</th>\n",
       "      <td>10705</td>\n",
       "      <td>8426</td>\n",
       "      <td>142053</td>\n",
       "      <td>245884</td>\n",
       "      <td>metavision</td>\n",
       "      <td>...</td>\n",
       "      <td>7</td>\n",
       "      <td>7</td>\n",
       "      <td>2115-05-17 17:55:57</td>\n",
       "      <td>2115-05-21 01:37:22</td>\n",
       "      <td>3.3204</td>\n",
       "    </tr>\n",
       "    <tr>\n",
       "      <th>...</th>\n",
       "      <td>...</td>\n",
       "      <td>...</td>\n",
       "      <td>...</td>\n",
       "      <td>...</td>\n",
       "      <td>...</td>\n",
       "      <td>...</td>\n",
       "      <td>...</td>\n",
       "      <td>...</td>\n",
       "      <td>...</td>\n",
       "      <td>...</td>\n",
       "      <td>...</td>\n",
       "    </tr>\n",
       "    <tr>\n",
       "      <th>60400</th>\n",
       "      <td>48401</td>\n",
       "      <td>60659</td>\n",
       "      <td>133081</td>\n",
       "      <td>274258</td>\n",
       "      <td>metavision</td>\n",
       "      <td>...</td>\n",
       "      <td>50</td>\n",
       "      <td>50</td>\n",
       "      <td>2128-05-20 18:58:51</td>\n",
       "      <td>2128-05-21 13:00:07</td>\n",
       "      <td>0.7509</td>\n",
       "    </tr>\n",
       "    <tr>\n",
       "      <th>60401</th>\n",
       "      <td>48402</td>\n",
       "      <td>60659</td>\n",
       "      <td>133081</td>\n",
       "      <td>205777</td>\n",
       "      <td>metavision</td>\n",
       "      <td>...</td>\n",
       "      <td>23</td>\n",
       "      <td>23</td>\n",
       "      <td>2128-05-24 01:07:17</td>\n",
       "      <td>2128-05-29 04:13:15</td>\n",
       "      <td>5.1291</td>\n",
       "    </tr>\n",
       "    <tr>\n",
       "      <th>60560</th>\n",
       "      <td>49942</td>\n",
       "      <td>65370</td>\n",
       "      <td>165569</td>\n",
       "      <td>278168</td>\n",
       "      <td>metavision</td>\n",
       "      <td>...</td>\n",
       "      <td>12</td>\n",
       "      <td>15</td>\n",
       "      <td>2190-11-23 12:38:13</td>\n",
       "      <td>2190-12-02 11:53:24</td>\n",
       "      <td>8.9689</td>\n",
       "    </tr>\n",
       "    <tr>\n",
       "      <th>60858</th>\n",
       "      <td>50381</td>\n",
       "      <td>66571</td>\n",
       "      <td>117918</td>\n",
       "      <td>268249</td>\n",
       "      <td>metavision</td>\n",
       "      <td>...</td>\n",
       "      <td>15</td>\n",
       "      <td>15</td>\n",
       "      <td>2103-07-12 15:09:44</td>\n",
       "      <td>2103-07-24 17:37:31</td>\n",
       "      <td>12.1026</td>\n",
       "    </tr>\n",
       "    <tr>\n",
       "      <th>60906</th>\n",
       "      <td>48947</td>\n",
       "      <td>62389</td>\n",
       "      <td>115499</td>\n",
       "      <td>212472</td>\n",
       "      <td>metavision</td>\n",
       "      <td>...</td>\n",
       "      <td>23</td>\n",
       "      <td>23</td>\n",
       "      <td>2158-06-16 18:03:22</td>\n",
       "      <td>2158-06-26 13:32:27</td>\n",
       "      <td>9.8119</td>\n",
       "    </tr>\n",
       "  </tbody>\n",
       "</table>\n",
       "<p>89 rows × 12 columns</p>\n",
       "</div>"
      ],
      "text/plain": [
       "       row_id  subject_id  hadm_id  icustay_id    dbsource   ...     \\\n",
       "6192     7043        5544   116545      215525  metavision   ...      \n",
       "9916    15479       12122   100779      271548  metavision   ...      \n",
       "10325   13758       10814   119849      267968  metavision   ...      \n",
       "10751   15514       12149   103934      239981  metavision   ...      \n",
       "19229   10705        8426   142053      245884  metavision   ...      \n",
       "...       ...         ...      ...         ...         ...   ...      \n",
       "60400   48401       60659   133081      274258  metavision   ...      \n",
       "60401   48402       60659   133081      205777  metavision   ...      \n",
       "60560   49942       65370   165569      278168  metavision   ...      \n",
       "60858   50381       66571   117918      268249  metavision   ...      \n",
       "60906   48947       62389   115499      212472  metavision   ...      \n",
       "\n",
       "      first_wardid last_wardid              intime             outtime  \\\n",
       "6192            52          52 2123-11-10 19:06:14 2123-11-15 21:07:21   \n",
       "9916            14          14 2203-08-03 16:33:23 2203-08-29 19:36:06   \n",
       "10325           23          23 2163-11-04 19:45:55 2163-11-17 23:24:49   \n",
       "10751            7           7 2121-08-10 16:31:41 2121-08-12 14:43:13   \n",
       "19229            7           7 2115-05-17 17:55:57 2115-05-21 01:37:22   \n",
       "...            ...         ...                 ...                 ...   \n",
       "60400           50          50 2128-05-20 18:58:51 2128-05-21 13:00:07   \n",
       "60401           23          23 2128-05-24 01:07:17 2128-05-29 04:13:15   \n",
       "60560           12          15 2190-11-23 12:38:13 2190-12-02 11:53:24   \n",
       "60858           15          15 2103-07-12 15:09:44 2103-07-24 17:37:31   \n",
       "60906           23          23 2158-06-16 18:03:22 2158-06-26 13:32:27   \n",
       "\n",
       "           los  \n",
       "6192    5.0841  \n",
       "9916   26.1269  \n",
       "10325  13.1520  \n",
       "10751   1.9247  \n",
       "19229   3.3204  \n",
       "...        ...  \n",
       "60400   0.7509  \n",
       "60401   5.1291  \n",
       "60560   8.9689  \n",
       "60858  12.1026  \n",
       "60906   9.8119  \n",
       "\n",
       "[89 rows x 12 columns]"
      ]
     },
     "execution_count": 12,
     "metadata": {},
     "output_type": "execute_result"
    }
   ],
   "source": [
    "df"
   ]
  },
  {
   "cell_type": "markdown",
   "metadata": {},
   "source": [
    "### I dunno, let's look at a plot of our cohort's lengths of stay in days"
   ]
  },
  {
   "cell_type": "code",
   "execution_count": 13,
   "metadata": {
    "collapsed": false
   },
   "outputs": [
    {
     "data": {
      "text/plain": [
       "<matplotlib.axes._subplots.AxesSubplot at 0x12b83ecf8>"
      ]
     },
     "execution_count": 13,
     "metadata": {},
     "output_type": "execute_result"
    },
    {
     "data": {
      "image/png": "[encoded data removed]",
      "text/plain": [
       "<matplotlib.figure.Figure at 0x10faaf9b0>"
      ]
     },
     "metadata": {},
     "output_type": "display_data"
    }
   ],
   "source": [
    "%matplotlib inline\n",
    "df['los'].plot(kind='hist')"
   ]
  },
  {
   "cell_type": "code",
   "execution_count": null,
   "metadata": {
    "collapsed": true
   },
   "outputs": [],
   "source": []
  }
 ],
 "metadata": {
  "kernelspec": {
   "display_name": "Python 3",
   "language": "python",
   "name": "python3"
  },
  "language_info": {
   "codemirror_mode": {
    "name": "ipython",
    "version": 3
   },
   "file_extension": ".py",
   "mimetype": "text/x-python",
   "name": "python",
   "nbconvert_exporter": "python",
   "pygments_lexer": "ipython3",
   "version": "3.4.3"
  }
 },
 "nbformat": 4,
 "nbformat_minor": 0
}
