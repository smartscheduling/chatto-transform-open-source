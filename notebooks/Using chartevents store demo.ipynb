{
 "cells": [
  {
   "cell_type": "markdown",
   "metadata": {},
   "source": [
    "#### This notebook assumes you already have the files for the `CharteventsDataStore` in your `local_storage_dir`.\n",
    "\n",
    "#### The required files are:\n",
    "\n",
    "- `chartevents_store.h5`\n",
    "- `chartevents_store.h5_uom_categories.csv`\n",
    "- `chartevents_store.h5_resultstatus_categories.csv`\n",
    "- `chartevents_store.h5_value_categories.csv`\n",
    "- `chartevents_store.h5_stopped_categories.csv`"
   ]
  },
  {
   "cell_type": "code",
   "execution_count": 1,
   "metadata": {
    "collapsed": true
   },
   "outputs": [],
   "source": [
    "from chatto_transform.datastores.mimic.chartevents_datastore import CharteventsDataStore"
   ]
  },
  {
   "cell_type": "code",
   "execution_count": 2,
   "metadata": {
    "collapsed": true
   },
   "outputs": [],
   "source": [
    "chartevents_store = CharteventsDataStore()"
   ]
  },
  {
   "cell_type": "markdown",
   "metadata": {},
   "source": [
    "### You can pass in any number of conditions inside the list.\n",
    "\n",
    "### See [pandas docs](http://pandas.pydata.org/pandas-docs/stable/io.html#querying-a-table) for info on how to query."
   ]
  },
  {
   "cell_type": "code",
   "execution_count": 3,
   "metadata": {
    "collapsed": false
   },
   "outputs": [
    {
     "name": "stdout",
     "output_type": "stream",
     "text": [
      "loading categories for value\n",
      "loading categories for uom\n",
      "loading categories for resultstatus\n",
      "loading categories for stopped\n"
     ]
    }
   ],
   "source": [
    "df = chartevents_store.select(['itemid == 198'])"
   ]
  },
  {
   "cell_type": "code",
   "execution_count": 5,
   "metadata": {
    "collapsed": false
   },
   "outputs": [
    {
     "data": {
      "text/html": [
       "<div>\n",
       "<table border=\"1\" class=\"dataframe\">\n",
       "  <thead>\n",
       "    <tr style=\"text-align: right;\">\n",
       "      <th></th>\n",
       "      <th>row_id</th>\n",
       "      <th>subject_id</th>\n",
       "      <th>hadm_id</th>\n",
       "      <th>icustay_id</th>\n",
       "      <th>itemid</th>\n",
       "      <th>charttime</th>\n",
       "      <th>storetime</th>\n",
       "      <th>cgid</th>\n",
       "      <th>value</th>\n",
       "      <th>valuenum</th>\n",
       "      <th>uom</th>\n",
       "      <th>warning</th>\n",
       "      <th>error</th>\n",
       "      <th>resultstatus</th>\n",
       "      <th>stopped</th>\n",
       "    </tr>\n",
       "  </thead>\n",
       "  <tbody>\n",
       "    <tr>\n",
       "      <th>70440638</th>\n",
       "      <td>71247615</td>\n",
       "      <td>151</td>\n",
       "      <td>151029</td>\n",
       "      <td>263211</td>\n",
       "      <td>198</td>\n",
       "      <td>NaT</td>\n",
       "      <td>NaT</td>\n",
       "      <td>18424</td>\n",
       "      <td>14</td>\n",
       "      <td>14</td>\n",
       "      <td>points</td>\n",
       "      <td>NaN</td>\n",
       "      <td>NaN</td>\n",
       "      <td>NaN</td>\n",
       "      <td>NotStopd</td>\n",
       "    </tr>\n",
       "    <tr>\n",
       "      <th>70440923</th>\n",
       "      <td>71252978</td>\n",
       "      <td>152</td>\n",
       "      <td>117181</td>\n",
       "      <td>279643</td>\n",
       "      <td>198</td>\n",
       "      <td>NaT</td>\n",
       "      <td>NaT</td>\n",
       "      <td>18301</td>\n",
       "      <td>15</td>\n",
       "      <td>15</td>\n",
       "      <td>points</td>\n",
       "      <td>NaN</td>\n",
       "      <td>NaN</td>\n",
       "      <td>NaN</td>\n",
       "      <td>NotStopd</td>\n",
       "    </tr>\n",
       "    <tr>\n",
       "      <th>70441039</th>\n",
       "      <td>71270856</td>\n",
       "      <td>156</td>\n",
       "      <td>168847</td>\n",
       "      <td>260696</td>\n",
       "      <td>198</td>\n",
       "      <td>NaT</td>\n",
       "      <td>NaT</td>\n",
       "      <td>15025</td>\n",
       "      <td>15</td>\n",
       "      <td>15</td>\n",
       "      <td>points</td>\n",
       "      <td>NaN</td>\n",
       "      <td>NaN</td>\n",
       "      <td>NaN</td>\n",
       "      <td>NotStopd</td>\n",
       "    </tr>\n",
       "    <tr>\n",
       "      <th>70441138</th>\n",
       "      <td>71233710</td>\n",
       "      <td>148</td>\n",
       "      <td>199488</td>\n",
       "      <td>227964</td>\n",
       "      <td>198</td>\n",
       "      <td>NaT</td>\n",
       "      <td>NaT</td>\n",
       "      <td>15065</td>\n",
       "      <td>4</td>\n",
       "      <td>4</td>\n",
       "      <td>points</td>\n",
       "      <td>NaN</td>\n",
       "      <td>NaN</td>\n",
       "      <td>NaN</td>\n",
       "      <td>NotStopd</td>\n",
       "    </tr>\n",
       "    <tr>\n",
       "      <th>70441233</th>\n",
       "      <td>71258493</td>\n",
       "      <td>156</td>\n",
       "      <td>168847</td>\n",
       "      <td>260696</td>\n",
       "      <td>198</td>\n",
       "      <td>NaT</td>\n",
       "      <td>NaT</td>\n",
       "      <td>19650</td>\n",
       "      <td>15</td>\n",
       "      <td>15</td>\n",
       "      <td>points</td>\n",
       "      <td>NaN</td>\n",
       "      <td>NaN</td>\n",
       "      <td>NaN</td>\n",
       "      <td>NotStopd</td>\n",
       "    </tr>\n",
       "  </tbody>\n",
       "</table>\n",
       "</div>"
      ],
      "text/plain": [
       "            row_id  subject_id  hadm_id  icustay_id  itemid charttime  \\\n",
       "70440638  71247615         151   151029      263211     198       NaT   \n",
       "70440923  71252978         152   117181      279643     198       NaT   \n",
       "70441039  71270856         156   168847      260696     198       NaT   \n",
       "70441138  71233710         148   199488      227964     198       NaT   \n",
       "70441233  71258493         156   168847      260696     198       NaT   \n",
       "\n",
       "         storetime   cgid value  valuenum     uom  warning  error  \\\n",
       "70440638       NaT  18424    14        14  points      NaN    NaN   \n",
       "70440923       NaT  18301    15        15  points      NaN    NaN   \n",
       "70441039       NaT  15025    15        15  points      NaN    NaN   \n",
       "70441138       NaT  15065     4         4  points      NaN    NaN   \n",
       "70441233       NaT  19650    15        15  points      NaN    NaN   \n",
       "\n",
       "         resultstatus   stopped  \n",
       "70440638          NaN  NotStopd  \n",
       "70440923          NaN  NotStopd  \n",
       "70441039          NaN  NotStopd  \n",
       "70441138          NaN  NotStopd  \n",
       "70441233          NaN  NotStopd  "
      ]
     },
     "execution_count": 5,
     "metadata": {},
     "output_type": "execute_result"
    }
   ],
   "source": [
    "df.head()"
   ]
  },
  {
   "cell_type": "code",
   "execution_count": null,
   "metadata": {
    "collapsed": true
   },
   "outputs": [],
   "source": []
  }
 ],
 "metadata": {
  "kernelspec": {
   "display_name": "Python 3",
   "language": "python",
   "name": "python3"
  },
  "language_info": {
   "codemirror_mode": {
    "name": "ipython",
    "version": 3
   },
   "file_extension": ".py",
   "mimetype": "text/x-python",
   "name": "python",
   "nbconvert_exporter": "python",
   "pygments_lexer": "ipython3",
   "version": "3.4.3"
  }
 },
 "nbformat": 4,
 "nbformat_minor": 0
}
