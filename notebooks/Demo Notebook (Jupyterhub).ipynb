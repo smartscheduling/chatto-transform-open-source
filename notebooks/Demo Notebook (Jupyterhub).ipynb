{
 "cells": [
  {
   "cell_type": "markdown",
   "metadata": {},
   "source": [
    "# Demo notebook\n",
    "\n",
    "### Here we demonstrate the basic ability to run queries, view the results, and download them as csvs.\n",
    "\n",
    "### To go through this notebook, click a cell and press (Shift + Enter) to execute it. Move through the cells in sequence and read the text along the way."
   ]
  },
  {
   "cell_type": "markdown",
   "metadata": {},
   "source": [
    "**Notebook display settings**\n",
    "\n",
    "This cell enables inline charts and sets table display settings"
   ]
  },
  {
   "cell_type": "code",
   "execution_count": 1,
   "metadata": {
    "collapsed": true
   },
   "outputs": [],
   "source": [
    "%matplotlib inline\n",
    "import matplotlib\n",
    "matplotlib.style.use('ggplot')\n",
    "matplotlib.rcParams['figure.figsize'] = (10.0, 8.0)\n",
    "\n",
    "import pandas as pd\n",
    "pd.options.display.max_columns = 10\n",
    "pd.options.display.max_rows = 10\n",
    "\n",
    "import warnings\n",
    "warnings.filterwarnings('ignore')"
   ]
  },
  {
   "cell_type": "markdown",
   "metadata": {},
   "source": [
    "### We'll start by importing the `mimic_common` module- this provides the most common operations for interacting with the MIMIC database."
   ]
  },
  {
   "cell_type": "code",
   "execution_count": 2,
   "metadata": {
    "collapsed": true
   },
   "outputs": [],
   "source": [
    "from chatto_transform.sessions.mimic import mimic_common"
   ]
  },
  {
   "cell_type": "markdown",
   "metadata": {},
   "source": [
    "### You can use `mimic_common.query()` to load tables and examine their results in the notebook.\n",
    "\n",
    "### Execute the next cell with `Shift + Enter`, then select `patients` and click `Execute`."
   ]
  },
  {
   "cell_type": "code",
   "execution_count": 3,
   "metadata": {
    "collapsed": false
   },
   "outputs": [
    {
     "name": "stdout",
     "output_type": "stream",
     "text": [
      "Loaded patients and stored in loaded_tables[\"patients\"]\n"
     ]
    }
   ],
   "source": [
    "mimic_common.query()"
   ]
  },
  {
   "cell_type": "markdown",
   "metadata": {},
   "source": [
    "### We can view the result of the query like this:"
   ]
  },
  {
   "cell_type": "code",
   "execution_count": 4,
   "metadata": {
    "collapsed": false
   },
   "outputs": [
    {
     "data": {
      "text/html": [
       "<div>\n",
       "<table border=\"1\" class=\"dataframe\">\n",
       "  <thead>\n",
       "    <tr style=\"text-align: right;\">\n",
       "      <th></th>\n",
       "      <th>row_id</th>\n",
       "      <th>subject_id</th>\n",
       "      <th>gender</th>\n",
       "      <th>dob</th>\n",
       "      <th>dod</th>\n",
       "      <th>dod_hosp</th>\n",
       "      <th>dod_ssn</th>\n",
       "      <th>hospital_expire_flag</th>\n",
       "    </tr>\n",
       "  </thead>\n",
       "  <tbody>\n",
       "    <tr>\n",
       "      <th>0</th>\n",
       "      <td>254</td>\n",
       "      <td>271</td>\n",
       "      <td>F</td>\n",
       "      <td>2074-11-30</td>\n",
       "      <td>2074-11-30</td>\n",
       "      <td>NaT</td>\n",
       "      <td>NaT</td>\n",
       "      <td>N</td>\n",
       "    </tr>\n",
       "    <tr>\n",
       "      <th>1</th>\n",
       "      <td>255</td>\n",
       "      <td>272</td>\n",
       "      <td>M</td>\n",
       "      <td>2119-11-21</td>\n",
       "      <td>2119-11-21</td>\n",
       "      <td>NaT</td>\n",
       "      <td>NaT</td>\n",
       "      <td>N</td>\n",
       "    </tr>\n",
       "    <tr>\n",
       "      <th>2</th>\n",
       "      <td>256</td>\n",
       "      <td>273</td>\n",
       "      <td>M</td>\n",
       "      <td>2107-08-10</td>\n",
       "      <td>2107-08-10</td>\n",
       "      <td>NaT</td>\n",
       "      <td>NaT</td>\n",
       "      <td>N</td>\n",
       "    </tr>\n",
       "    <tr>\n",
       "      <th>3</th>\n",
       "      <td>257</td>\n",
       "      <td>274</td>\n",
       "      <td>M</td>\n",
       "      <td>2048-05-18</td>\n",
       "      <td>2048-05-18</td>\n",
       "      <td>2122-09-07</td>\n",
       "      <td>NaT</td>\n",
       "      <td>N</td>\n",
       "    </tr>\n",
       "    <tr>\n",
       "      <th>4</th>\n",
       "      <td>258</td>\n",
       "      <td>275</td>\n",
       "      <td>M</td>\n",
       "      <td>2088-08-07</td>\n",
       "      <td>2088-08-07</td>\n",
       "      <td>2170-10-19</td>\n",
       "      <td>2170-10-19</td>\n",
       "      <td>Y</td>\n",
       "    </tr>\n",
       "    <tr>\n",
       "      <th>...</th>\n",
       "      <td>...</td>\n",
       "      <td>...</td>\n",
       "      <td>...</td>\n",
       "      <td>...</td>\n",
       "      <td>...</td>\n",
       "      <td>...</td>\n",
       "      <td>...</td>\n",
       "      <td>...</td>\n",
       "    </tr>\n",
       "    <tr>\n",
       "      <th>46515</th>\n",
       "      <td>46162</td>\n",
       "      <td>98622</td>\n",
       "      <td>F</td>\n",
       "      <td>2134-12-22</td>\n",
       "      <td>2134-12-22</td>\n",
       "      <td>NaT</td>\n",
       "      <td>NaT</td>\n",
       "      <td>N</td>\n",
       "    </tr>\n",
       "    <tr>\n",
       "      <th>46516</th>\n",
       "      <td>46163</td>\n",
       "      <td>98623</td>\n",
       "      <td>M</td>\n",
       "      <td>2104-05-06</td>\n",
       "      <td>2104-05-06</td>\n",
       "      <td>NaT</td>\n",
       "      <td>NaT</td>\n",
       "      <td>N</td>\n",
       "    </tr>\n",
       "    <tr>\n",
       "      <th>46517</th>\n",
       "      <td>46164</td>\n",
       "      <td>98630</td>\n",
       "      <td>F</td>\n",
       "      <td>2075-07-25</td>\n",
       "      <td>2075-07-25</td>\n",
       "      <td>NaT</td>\n",
       "      <td>NaT</td>\n",
       "      <td>N</td>\n",
       "    </tr>\n",
       "    <tr>\n",
       "      <th>46518</th>\n",
       "      <td>46165</td>\n",
       "      <td>98634</td>\n",
       "      <td>M</td>\n",
       "      <td>2086-06-19</td>\n",
       "      <td>2086-06-19</td>\n",
       "      <td>NaT</td>\n",
       "      <td>NaT</td>\n",
       "      <td>N</td>\n",
       "    </tr>\n",
       "    <tr>\n",
       "      <th>46519</th>\n",
       "      <td>46166</td>\n",
       "      <td>98636</td>\n",
       "      <td>F</td>\n",
       "      <td>2064-06-20</td>\n",
       "      <td>2064-06-20</td>\n",
       "      <td>NaT</td>\n",
       "      <td>NaT</td>\n",
       "      <td>N</td>\n",
       "    </tr>\n",
       "  </tbody>\n",
       "</table>\n",
       "<p>46520 rows × 8 columns</p>\n",
       "</div>"
      ],
      "text/plain": [
       "       row_id  subject_id gender        dob        dod   dod_hosp    dod_ssn  \\\n",
       "0         254         271      F 2074-11-30 2074-11-30        NaT        NaT   \n",
       "1         255         272      M 2119-11-21 2119-11-21        NaT        NaT   \n",
       "2         256         273      M 2107-08-10 2107-08-10        NaT        NaT   \n",
       "3         257         274      M 2048-05-18 2048-05-18 2122-09-07        NaT   \n",
       "4         258         275      M 2088-08-07 2088-08-07 2170-10-19 2170-10-19   \n",
       "...       ...         ...    ...        ...        ...        ...        ...   \n",
       "46515   46162       98622      F 2134-12-22 2134-12-22        NaT        NaT   \n",
       "46516   46163       98623      M 2104-05-06 2104-05-06        NaT        NaT   \n",
       "46517   46164       98630      F 2075-07-25 2075-07-25        NaT        NaT   \n",
       "46518   46165       98634      M 2086-06-19 2086-06-19        NaT        NaT   \n",
       "46519   46166       98636      F 2064-06-20 2064-06-20        NaT        NaT   \n",
       "\n",
       "      hospital_expire_flag  \n",
       "0                        N  \n",
       "1                        N  \n",
       "2                        N  \n",
       "3                        N  \n",
       "4                        Y  \n",
       "...                    ...  \n",
       "46515                    N  \n",
       "46516                    N  \n",
       "46517                    N  \n",
       "46518                    N  \n",
       "46519                    N  \n",
       "\n",
       "[46520 rows x 8 columns]"
      ]
     },
     "execution_count": 4,
     "metadata": {},
     "output_type": "execute_result"
    }
   ],
   "source": [
    "mimic_common.loaded_tables['patients']"
   ]
  },
  {
   "cell_type": "markdown",
   "metadata": {},
   "source": [
    "### We can also download query results as CSV files to our local computer.\n",
    "\n",
    "### Execute the following cell, then select the `patients` table. Enter `gender='M'` in the `Where` box. Then click the `Execute` button.\n",
    "\n",
    "### A download link to a csv file should appear. You can right-click it to save it to your computer.\n",
    "#### (If you're running chatto-transform locally, there's not much point to this but it works)"
   ]
  },
  {
   "cell_type": "code",
   "execution_count": 5,
   "metadata": {
    "collapsed": false
   },
   "outputs": [
    {
     "data": {
      "text/html": [
       "Right-click and save: <a href='../../data/mimic3_local_storage/patients.csv' target='_blank'>../../data/mimic3_local_storage/patients.csv</a><br>"
      ],
      "text/plain": [
       "/Users/dan/dev/data/mimic3_local_storage/patients.csv"
      ]
     },
     "metadata": {},
     "output_type": "display_data"
    }
   ],
   "source": [
    "mimic_common.download_table()"
   ]
  },
  {
   "cell_type": "markdown",
   "metadata": {},
   "source": [
    "### You can also enter arbitrary SQL queries:"
   ]
  },
  {
   "cell_type": "markdown",
   "metadata": {},
   "source": [
    "### Type in the following SQL query in the text area that appears:\n",
    "\n",
    "````\n",
    "SELECT * FROM MIMICIII.ADMISSIONS LIMIT 3\n",
    "````\n",
    "\n",
    "### Then click *Execute*."
   ]
  },
  {
   "cell_type": "code",
   "execution_count": 6,
   "metadata": {
    "collapsed": false
   },
   "outputs": [
    {
     "name": "stdout",
     "output_type": "stream",
     "text": [
      "Loaded SELECT * FROM MIMICIII.ADMISSIONS LIMIT 3 and stored in loaded_sql[0]\n"
     ]
    }
   ],
   "source": [
    "mimic_common.sql()"
   ]
  },
  {
   "cell_type": "markdown",
   "metadata": {},
   "source": [
    "### And access the results like this:"
   ]
  },
  {
   "cell_type": "code",
   "execution_count": 7,
   "metadata": {
    "collapsed": false
   },
   "outputs": [
    {
     "data": {
      "text/html": [
       "<div>\n",
       "<table border=\"1\" class=\"dataframe\">\n",
       "  <thead>\n",
       "    <tr style=\"text-align: right;\">\n",
       "      <th></th>\n",
       "      <th>row_id</th>\n",
       "      <th>subject_id</th>\n",
       "      <th>hadm_id</th>\n",
       "      <th>admittime</th>\n",
       "      <th>dischtime</th>\n",
       "      <th>...</th>\n",
       "      <th>language</th>\n",
       "      <th>religion</th>\n",
       "      <th>marital_status</th>\n",
       "      <th>ethnicity</th>\n",
       "      <th>diagnosis</th>\n",
       "    </tr>\n",
       "  </thead>\n",
       "  <tbody>\n",
       "    <tr>\n",
       "      <th>0</th>\n",
       "      <td>49</td>\n",
       "      <td>50</td>\n",
       "      <td>132761</td>\n",
       "      <td>2112-06-23 19:40:00</td>\n",
       "      <td>2112-06-26 10:15:00</td>\n",
       "      <td>...</td>\n",
       "      <td>NaN</td>\n",
       "      <td>OTHER</td>\n",
       "      <td>NaN</td>\n",
       "      <td>WHITE</td>\n",
       "      <td>NEWBORN</td>\n",
       "    </tr>\n",
       "    <tr>\n",
       "      <th>1</th>\n",
       "      <td>50</td>\n",
       "      <td>51</td>\n",
       "      <td>196010</td>\n",
       "      <td>2128-11-30 10:28:00</td>\n",
       "      <td>2128-12-02 12:35:00</td>\n",
       "      <td>...</td>\n",
       "      <td>NaN</td>\n",
       "      <td>CATHOLIC</td>\n",
       "      <td>NaN</td>\n",
       "      <td>WHITE</td>\n",
       "      <td>NEWBORN</td>\n",
       "    </tr>\n",
       "    <tr>\n",
       "      <th>2</th>\n",
       "      <td>51</td>\n",
       "      <td>52</td>\n",
       "      <td>190797</td>\n",
       "      <td>2191-01-10 02:12:00</td>\n",
       "      <td>2191-01-19 16:10:00</td>\n",
       "      <td>...</td>\n",
       "      <td>NaN</td>\n",
       "      <td>PROTESTANT QUAKER</td>\n",
       "      <td>SINGLE</td>\n",
       "      <td>WHITE</td>\n",
       "      <td>SEIZURES</td>\n",
       "    </tr>\n",
       "  </tbody>\n",
       "</table>\n",
       "<p>3 rows × 15 columns</p>\n",
       "</div>"
      ],
      "text/plain": [
       "   row_id  subject_id  hadm_id            admittime            dischtime  \\\n",
       "0      49          50   132761  2112-06-23 19:40:00  2112-06-26 10:15:00   \n",
       "1      50          51   196010  2128-11-30 10:28:00  2128-12-02 12:35:00   \n",
       "2      51          52   190797  2191-01-10 02:12:00  2191-01-19 16:10:00   \n",
       "\n",
       "     ...     language           religion marital_status ethnicity diagnosis  \n",
       "0    ...          NaN              OTHER            NaN     WHITE   NEWBORN  \n",
       "1    ...          NaN           CATHOLIC            NaN     WHITE   NEWBORN  \n",
       "2    ...          NaN  PROTESTANT QUAKER         SINGLE     WHITE  SEIZURES  \n",
       "\n",
       "[3 rows x 15 columns]"
      ]
     },
     "execution_count": 7,
     "metadata": {},
     "output_type": "execute_result"
    }
   ],
   "source": [
    "mimic_common.loaded_sql[0]"
   ]
  },
  {
   "cell_type": "markdown",
   "metadata": {
    "collapsed": true
   },
   "source": [
    "### Let's get into doing stuff with code. You can load tables and queries without using the visual widgets above:"
   ]
  },
  {
   "cell_type": "code",
   "execution_count": 8,
   "metadata": {
    "collapsed": true
   },
   "outputs": [],
   "source": [
    "from chatto_transform.schema.mimic import mimic_schema"
   ]
  },
  {
   "cell_type": "code",
   "execution_count": 9,
   "metadata": {
    "collapsed": false
   },
   "outputs": [],
   "source": [
    "df = mimic_common.load_table(mimic_schema.admissions_schema)"
   ]
  },
  {
   "cell_type": "code",
   "execution_count": 10,
   "metadata": {
    "collapsed": false
   },
   "outputs": [
    {
     "data": {
      "text/html": [
       "<div>\n",
       "<table border=\"1\" class=\"dataframe\">\n",
       "  <thead>\n",
       "    <tr style=\"text-align: right;\">\n",
       "      <th></th>\n",
       "      <th>row_id</th>\n",
       "      <th>subject_id</th>\n",
       "      <th>hadm_id</th>\n",
       "      <th>admittime</th>\n",
       "      <th>dischtime</th>\n",
       "      <th>...</th>\n",
       "      <th>language</th>\n",
       "      <th>religion</th>\n",
       "      <th>marital_status</th>\n",
       "      <th>ethnicity</th>\n",
       "      <th>diagnosis</th>\n",
       "    </tr>\n",
       "  </thead>\n",
       "  <tbody>\n",
       "    <tr>\n",
       "      <th>0</th>\n",
       "      <td>49</td>\n",
       "      <td>50</td>\n",
       "      <td>132761</td>\n",
       "      <td>2112-06-23 19:40:00</td>\n",
       "      <td>2112-06-26 10:15:00</td>\n",
       "      <td>...</td>\n",
       "      <td>NaN</td>\n",
       "      <td>OTHER</td>\n",
       "      <td>NaN</td>\n",
       "      <td>WHITE</td>\n",
       "      <td>NEWBORN</td>\n",
       "    </tr>\n",
       "    <tr>\n",
       "      <th>1</th>\n",
       "      <td>50</td>\n",
       "      <td>51</td>\n",
       "      <td>196010</td>\n",
       "      <td>2128-11-30 10:28:00</td>\n",
       "      <td>2128-12-02 12:35:00</td>\n",
       "      <td>...</td>\n",
       "      <td>NaN</td>\n",
       "      <td>CATHOLIC</td>\n",
       "      <td>NaN</td>\n",
       "      <td>WHITE</td>\n",
       "      <td>NEWBORN</td>\n",
       "    </tr>\n",
       "    <tr>\n",
       "      <th>2</th>\n",
       "      <td>51</td>\n",
       "      <td>52</td>\n",
       "      <td>190797</td>\n",
       "      <td>2191-01-10 02:12:00</td>\n",
       "      <td>2191-01-19 16:10:00</td>\n",
       "      <td>...</td>\n",
       "      <td>NaN</td>\n",
       "      <td>PROTESTANT QUAKER</td>\n",
       "      <td>SINGLE</td>\n",
       "      <td>WHITE</td>\n",
       "      <td>SEIZURES</td>\n",
       "    </tr>\n",
       "    <tr>\n",
       "      <th>3</th>\n",
       "      <td>52</td>\n",
       "      <td>53</td>\n",
       "      <td>155385</td>\n",
       "      <td>2170-03-20 20:20:00</td>\n",
       "      <td>2170-03-23 18:00:00</td>\n",
       "      <td>...</td>\n",
       "      <td>ENGL</td>\n",
       "      <td>CATHOLIC</td>\n",
       "      <td>MARRIED</td>\n",
       "      <td>UNKNOWN/NOT SPECIFIED</td>\n",
       "      <td>MYOCARDIAL INFARCTION\\CARDIAC CATH</td>\n",
       "    </tr>\n",
       "    <tr>\n",
       "      <th>4</th>\n",
       "      <td>53</td>\n",
       "      <td>54</td>\n",
       "      <td>138795</td>\n",
       "      <td>2191-08-10 15:53:00</td>\n",
       "      <td>2191-08-14 14:29:00</td>\n",
       "      <td>...</td>\n",
       "      <td>NaN</td>\n",
       "      <td>PROTESTANT QUAKER</td>\n",
       "      <td>NaN</td>\n",
       "      <td>WHITE</td>\n",
       "      <td>NEWBORN</td>\n",
       "    </tr>\n",
       "    <tr>\n",
       "      <th>...</th>\n",
       "      <td>...</td>\n",
       "      <td>...</td>\n",
       "      <td>...</td>\n",
       "      <td>...</td>\n",
       "      <td>...</td>\n",
       "      <td>...</td>\n",
       "      <td>...</td>\n",
       "      <td>...</td>\n",
       "      <td>...</td>\n",
       "      <td>...</td>\n",
       "      <td>...</td>\n",
       "    </tr>\n",
       "    <tr>\n",
       "      <th>58971</th>\n",
       "      <td>58177</td>\n",
       "      <td>97443</td>\n",
       "      <td>128198</td>\n",
       "      <td>2150-02-16 07:15:00</td>\n",
       "      <td>2150-02-20 14:20:00</td>\n",
       "      <td>...</td>\n",
       "      <td>ENGL</td>\n",
       "      <td>PROTESTANT QUAKER</td>\n",
       "      <td>MARRIED</td>\n",
       "      <td>WHITE</td>\n",
       "      <td>PARAESOPHAGEAL HERNIA/SDA</td>\n",
       "    </tr>\n",
       "    <tr>\n",
       "      <th>58972</th>\n",
       "      <td>58178</td>\n",
       "      <td>97443</td>\n",
       "      <td>175034</td>\n",
       "      <td>2151-09-15 00:51:00</td>\n",
       "      <td>2151-09-22 14:00:00</td>\n",
       "      <td>...</td>\n",
       "      <td>ENGL</td>\n",
       "      <td>PROTESTANT QUAKER</td>\n",
       "      <td>MARRIED</td>\n",
       "      <td>WHITE</td>\n",
       "      <td>SMALL BOWEL OBSTRUCTION</td>\n",
       "    </tr>\n",
       "    <tr>\n",
       "      <th>58973</th>\n",
       "      <td>58179</td>\n",
       "      <td>97448</td>\n",
       "      <td>173435</td>\n",
       "      <td>2196-03-07 15:03:00</td>\n",
       "      <td>2196-03-14 13:55:00</td>\n",
       "      <td>...</td>\n",
       "      <td>ENGL</td>\n",
       "      <td>PROTESTANT QUAKER</td>\n",
       "      <td>MARRIED</td>\n",
       "      <td>WHITE</td>\n",
       "      <td>CORONARY ARTERY DISEASE</td>\n",
       "    </tr>\n",
       "    <tr>\n",
       "      <th>58974</th>\n",
       "      <td>58180</td>\n",
       "      <td>97449</td>\n",
       "      <td>149865</td>\n",
       "      <td>2183-02-19 13:15:00</td>\n",
       "      <td>2183-03-20 12:18:00</td>\n",
       "      <td>...</td>\n",
       "      <td>ENGL</td>\n",
       "      <td>NOT SPECIFIED</td>\n",
       "      <td>SINGLE</td>\n",
       "      <td>WHITE</td>\n",
       "      <td>PEDESTRIAN STRUCK</td>\n",
       "    </tr>\n",
       "    <tr>\n",
       "      <th>58975</th>\n",
       "      <td>58181</td>\n",
       "      <td>97460</td>\n",
       "      <td>136586</td>\n",
       "      <td>2165-05-30 19:43:00</td>\n",
       "      <td>2165-06-01 16:40:00</td>\n",
       "      <td>...</td>\n",
       "      <td>ENGL</td>\n",
       "      <td>UNOBTAINABLE</td>\n",
       "      <td>MARRIED</td>\n",
       "      <td>UNABLE TO OBTAIN</td>\n",
       "      <td>NON-Q-WAVE MYOCARDIAL INFARCTION\\LEFT HEART CATH</td>\n",
       "    </tr>\n",
       "  </tbody>\n",
       "</table>\n",
       "<p>58976 rows × 15 columns</p>\n",
       "</div>"
      ],
      "text/plain": [
       "       row_id  subject_id  hadm_id           admittime           dischtime  \\\n",
       "0          49          50   132761 2112-06-23 19:40:00 2112-06-26 10:15:00   \n",
       "1          50          51   196010 2128-11-30 10:28:00 2128-12-02 12:35:00   \n",
       "2          51          52   190797 2191-01-10 02:12:00 2191-01-19 16:10:00   \n",
       "3          52          53   155385 2170-03-20 20:20:00 2170-03-23 18:00:00   \n",
       "4          53          54   138795 2191-08-10 15:53:00 2191-08-14 14:29:00   \n",
       "...       ...         ...      ...                 ...                 ...   \n",
       "58971   58177       97443   128198 2150-02-16 07:15:00 2150-02-20 14:20:00   \n",
       "58972   58178       97443   175034 2151-09-15 00:51:00 2151-09-22 14:00:00   \n",
       "58973   58179       97448   173435 2196-03-07 15:03:00 2196-03-14 13:55:00   \n",
       "58974   58180       97449   149865 2183-02-19 13:15:00 2183-03-20 12:18:00   \n",
       "58975   58181       97460   136586 2165-05-30 19:43:00 2165-06-01 16:40:00   \n",
       "\n",
       "                             ...                        language  \\\n",
       "0                            ...                             NaN   \n",
       "1                            ...                             NaN   \n",
       "2                            ...                             NaN   \n",
       "3                            ...                            ENGL   \n",
       "4                            ...                             NaN   \n",
       "...                          ...                             ...   \n",
       "58971                        ...                            ENGL   \n",
       "58972                        ...                            ENGL   \n",
       "58973                        ...                            ENGL   \n",
       "58974                        ...                            ENGL   \n",
       "58975                        ...                            ENGL   \n",
       "\n",
       "                religion marital_status              ethnicity  \\\n",
       "0                  OTHER            NaN                  WHITE   \n",
       "1               CATHOLIC            NaN                  WHITE   \n",
       "2      PROTESTANT QUAKER         SINGLE                  WHITE   \n",
       "3               CATHOLIC        MARRIED  UNKNOWN/NOT SPECIFIED   \n",
       "4      PROTESTANT QUAKER            NaN                  WHITE   \n",
       "...                  ...            ...                    ...   \n",
       "58971  PROTESTANT QUAKER        MARRIED                  WHITE   \n",
       "58972  PROTESTANT QUAKER        MARRIED                  WHITE   \n",
       "58973  PROTESTANT QUAKER        MARRIED                  WHITE   \n",
       "58974      NOT SPECIFIED         SINGLE                  WHITE   \n",
       "58975       UNOBTAINABLE        MARRIED       UNABLE TO OBTAIN   \n",
       "\n",
       "                                              diagnosis  \n",
       "0                                               NEWBORN  \n",
       "1                                               NEWBORN  \n",
       "2                                              SEIZURES  \n",
       "3                    MYOCARDIAL INFARCTION\\CARDIAC CATH  \n",
       "4                                               NEWBORN  \n",
       "...                                                 ...  \n",
       "58971                         PARAESOPHAGEAL HERNIA/SDA  \n",
       "58972                           SMALL BOWEL OBSTRUCTION  \n",
       "58973                           CORONARY ARTERY DISEASE  \n",
       "58974                                 PEDESTRIAN STRUCK  \n",
       "58975  NON-Q-WAVE MYOCARDIAL INFARCTION\\LEFT HEART CATH  \n",
       "\n",
       "[58976 rows x 15 columns]"
      ]
     },
     "execution_count": 10,
     "metadata": {},
     "output_type": "execute_result"
    }
   ],
   "source": [
    "df"
   ]
  },
  {
   "cell_type": "markdown",
   "metadata": {},
   "source": [
    "### We just loaded the `admissions` table.\n",
    "\n",
    "### We did this by called `mimic_common.load_table`, and passing it a `schema` object.\n",
    "\n",
    "### Let's take a closer look at the `schema` we used, `mimic_schema.admissions_schema`:"
   ]
  },
  {
   "cell_type": "code",
   "execution_count": 11,
   "metadata": {
    "collapsed": false
   },
   "outputs": [
    {
     "data": {
      "text/plain": [
       "Schema(\"admissions\", [\n",
       "    id_(\"row_id\"),\n",
       "    id_(\"subject_id\"),\n",
       "    num(\"hadm_id\"),\n",
       "    dt(\"admittime\"),\n",
       "    dt(\"dischtime\"),\n",
       "    dt(\"deathtime\"),\n",
       "    cat(\"admission_type\"),\n",
       "    cat(\"admission_location\"),\n",
       "    cat(\"discharge_location\"),\n",
       "    cat(\"insurance\"),\n",
       "    cat(\"language\"),\n",
       "    cat(\"religion\"),\n",
       "    cat(\"marital_status\"),\n",
       "    cat(\"ethnicity\"),\n",
       "    cat(\"diagnosis\")\n",
       "],\n",
       "options={\n",
       "    'db_schema': 'mimiciii'\n",
       "})"
      ]
     },
     "execution_count": 11,
     "metadata": {},
     "output_type": "execute_result"
    }
   ],
   "source": [
    "mimic_schema.admissions_schema"
   ]
  },
  {
   "cell_type": "markdown",
   "metadata": {},
   "source": [
    "### Here we see information about the `admissions` table. We see the names of types of the different columns.\n",
    "\n",
    "### We can pass any of the schema objects in `mimic_schema` to `load_table`, and the table will be loaded. Feel free to take a look at the different schemas:"
   ]
  },
  {
   "cell_type": "code",
   "execution_count": 12,
   "metadata": {
    "collapsed": false
   },
   "outputs": [
    {
     "data": {
      "text/plain": [
       "['Column',\n",
       " 'ColumnMeta',\n",
       " 'MultiSchema',\n",
       " 'PartialSchema',\n",
       " 'Schema',\n",
       " '__builtins__',\n",
       " '__cached__',\n",
       " '__doc__',\n",
       " '__file__',\n",
       " '__loader__',\n",
       " '__name__',\n",
       " '__package__',\n",
       " '__spec__',\n",
       " 'admissions_schema',\n",
       " 'big_dt',\n",
       " 'bool_',\n",
       " 'callout_schema',\n",
       " 'caregivers_schema',\n",
       " 'cat',\n",
       " 'chartevents_schema',\n",
       " 'col_to_big_dt',\n",
       " 'copy',\n",
       " 'cptevents_schema',\n",
       " 'd_cpt_schema',\n",
       " 'd_icd_diagnoses_schema',\n",
       " 'd_icd_procedures_schema',\n",
       " 'd_items_schema',\n",
       " 'd_labitems_schema',\n",
       " 'datetime',\n",
       " 'datetimeevents_schema',\n",
       " 'dateutil',\n",
       " 'defaultdict',\n",
       " 'delta',\n",
       " 'diagnoses_icd_schema',\n",
       " 'drgcodes_schema',\n",
       " 'dt',\n",
       " 'icustayevents_schema',\n",
       " 'id_',\n",
       " 'ioevents_schema',\n",
       " 'labevents_schema',\n",
       " 'microbiologyevents_schema',\n",
       " 'noteevents_schema',\n",
       " 'num',\n",
       " 'numpy',\n",
       " 'obj',\n",
       " 'pandas',\n",
       " 'patients_schema',\n",
       " 'prescriptions_schema',\n",
       " 'procedures_icd_schema',\n",
       " 'services_schema',\n",
       " 'transfers_schema']"
      ]
     },
     "execution_count": 12,
     "metadata": {},
     "output_type": "execute_result"
    }
   ],
   "source": [
    "dir(mimic_schema)"
   ]
  },
  {
   "cell_type": "markdown",
   "metadata": {},
   "source": [
    "### Say we want to download the table we just loaded. We can do it like this:"
   ]
  },
  {
   "cell_type": "code",
   "execution_count": 13,
   "metadata": {
    "collapsed": false
   },
   "outputs": [
    {
     "data": {
      "text/html": [
       "Right-click and save: <a href='../../data/mimic3_local_storage/admissions.csv' target='_blank'>../../data/mimic3_local_storage/admissions.csv</a><br>"
      ],
      "text/plain": [
       "/Users/dan/dev/data/mimic3_local_storage/admissions.csv"
      ]
     },
     "execution_count": 13,
     "metadata": {},
     "output_type": "execute_result"
    }
   ],
   "source": [
    "mimic_common.df_to_csv('admissions.csv', df)"
   ]
  },
  {
   "cell_type": "markdown",
   "metadata": {},
   "source": [
    "### To make further progress, take a look at the other Demo Notebooks.\n",
    "\n",
    "### You can also read about the [Pandas](http://pandas.pydata.org/pandas-docs/stable/10min.html) library, to learn about how to interact with the data."
   ]
  },
  {
   "cell_type": "code",
   "execution_count": null,
   "metadata": {
    "collapsed": true
   },
   "outputs": [],
   "source": []
  }
 ],
 "metadata": {
  "kernelspec": {
   "display_name": "Python 3",
   "language": "python",
   "name": "python3"
  },
  "language_info": {
   "codemirror_mode": {
    "name": "ipython",
    "version": 3
   },
   "file_extension": ".py",
   "mimetype": "text/x-python",
   "name": "python",
   "nbconvert_exporter": "python",
   "pygments_lexer": "ipython3",
   "version": "3.4.3"
  }
 },
 "nbformat": 4,
 "nbformat_minor": 0
}
